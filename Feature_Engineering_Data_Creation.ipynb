{
 "cells": [
  {
   "cell_type": "markdown",
   "metadata": {},
   "source": [
    "# Introduction: Data Creation\n",
    "\n",
    "In this notebook we create an example dataset to be used for automated feature engineering. I have included this code in the repository for posterity and because at some point it may come in use for generating additional example datasets."
   ]
  },
  {
   "cell_type": "code",
   "execution_count": 1,
   "metadata": {
    "ExecuteTime": {
     "end_time": "2021-07-26T09:27:24.502524Z",
     "start_time": "2021-07-26T09:27:14.513052Z"
    },
    "colab": {
     "autoexec": {
      "startup": false,
      "wait_interval": 0
     }
    },
    "colab_type": "code",
    "id": "TMJOuoK-3TwZ"
   },
   "outputs": [],
   "source": [
    "import pandas as pd\n",
    "import numpy as np\n",
    "\n",
    "from datetime import datetime\n",
    "import random\n",
    "\n",
    "rand_dates = []\n",
    " \n",
    "for _ in range(1000):\n",
    "  \n",
    "  year = random.choice(range(2000, 2015))\n",
    "  month = random.choice(range(1, 13))\n",
    "  day = random.choice(range(1, 29))\n",
    "  rdate = datetime(year, month, day)\n",
    "  rand_dates.append(rdate)"
   ]
  },
  {
   "cell_type": "code",
   "execution_count": 2,
   "metadata": {
    "ExecuteTime": {
     "end_time": "2021-07-26T09:27:24.627543Z",
     "start_time": "2021-07-26T09:27:24.505536Z"
    },
    "colab": {
     "autoexec": {
      "startup": false,
      "wait_interval": 0
     }
    },
    "colab_type": "code",
    "id": "ZHbTWJ4W8aRO"
   },
   "outputs": [
    {
     "data": {
      "text/html": [
       "<div>\n",
       "<style scoped>\n",
       "    .dataframe tbody tr th:only-of-type {\n",
       "        vertical-align: middle;\n",
       "    }\n",
       "\n",
       "    .dataframe tbody tr th {\n",
       "        vertical-align: top;\n",
       "    }\n",
       "\n",
       "    .dataframe thead th {\n",
       "        text-align: right;\n",
       "    }\n",
       "</style>\n",
       "<table border=\"1\" class=\"dataframe\">\n",
       "  <thead>\n",
       "    <tr style=\"text-align: right;\">\n",
       "      <th></th>\n",
       "      <th>client_id</th>\n",
       "      <th>joined</th>\n",
       "      <th>income</th>\n",
       "      <th>credit_score</th>\n",
       "    </tr>\n",
       "  </thead>\n",
       "  <tbody>\n",
       "    <tr>\n",
       "      <th>0</th>\n",
       "      <td>26579</td>\n",
       "      <td>2014-10-01</td>\n",
       "      <td>94457</td>\n",
       "      <td>597</td>\n",
       "    </tr>\n",
       "    <tr>\n",
       "      <th>1</th>\n",
       "      <td>36238</td>\n",
       "      <td>2010-04-04</td>\n",
       "      <td>135768</td>\n",
       "      <td>795</td>\n",
       "    </tr>\n",
       "    <tr>\n",
       "      <th>2</th>\n",
       "      <td>46134</td>\n",
       "      <td>2006-02-05</td>\n",
       "      <td>143127</td>\n",
       "      <td>791</td>\n",
       "    </tr>\n",
       "    <tr>\n",
       "      <th>3</th>\n",
       "      <td>32364</td>\n",
       "      <td>2004-12-05</td>\n",
       "      <td>186151</td>\n",
       "      <td>769</td>\n",
       "    </tr>\n",
       "    <tr>\n",
       "      <th>4</th>\n",
       "      <td>25116</td>\n",
       "      <td>2011-03-12</td>\n",
       "      <td>169048</td>\n",
       "      <td>655</td>\n",
       "    </tr>\n",
       "  </tbody>\n",
       "</table>\n",
       "</div>"
      ],
      "text/plain": [
       "  client_id     joined  income credit_score\n",
       "0     26579 2014-10-01   94457          597\n",
       "1     36238 2010-04-04  135768          795\n",
       "2     46134 2006-02-05  143127          791\n",
       "3     32364 2004-12-05  186151          769\n",
       "4     25116 2011-03-12  169048          655"
      ]
     },
     "execution_count": 2,
     "metadata": {},
     "output_type": "execute_result"
    }
   ],
   "source": [
    "clients = pd.DataFrame(columns = ['client_id', 'joined', 'income', 'credit_score'])\n",
    "for _ in range(25):\n",
    "  clients = clients.append(pd.DataFrame({'client_id': np.random.randint(25000, 50000, size = 1)[0], 'joined': random.choice(rand_dates),\n",
    "                           'income': np.random.randint(30500, 240000, size = 1)[0], 'credit_score': np.random.randint(500, 850, size = 1)[0]},\n",
    "                                        index = [0]), ignore_index = True)\n",
    "\n",
    "clients.head()"
   ]
  },
  {
   "cell_type": "code",
   "execution_count": 8,
   "metadata": {
    "ExecuteTime": {
     "end_time": "2021-07-26T12:34:15.237185Z",
     "start_time": "2021-07-26T12:34:15.071128Z"
    },
    "colab": {
     "autoexec": {
      "startup": false,
      "wait_interval": 0
     }
    },
    "colab_type": "code",
    "id": "X7KOWMe19qBe"
   },
   "outputs": [],
   "source": [
    "loans = pd.DataFrame(columns = ['client_id', 'loan_type', 'loan_amount', 'repaid',\n",
    "                                         'loan_id', 'loan_start', 'loan_end', 'rate'])\n",
    "\n",
    "for client in clients['client_id'].unique():\n",
    "    for _ in range(20):\n",
    "        time_created = pd.datetime(np.random.randint(2000, 2015, size = 1)[0],\n",
    "                               np.random.randint(1, 13, size = 1)[0],\n",
    "                               np.random.randint(1, 30, size = 1)[0])\n",
    "\n",
    "    time_ended = time_created + pd.Timedelta(days = np.random.randint(500, 1000, size = 1)[0])\n",
    "\n",
    "    loans = loans.append(pd.DataFrame({'client_id': client, 'loan_type': random.choice(['cash', 'credit', 'home', 'other']),\n",
    "                                                         'loan_amount': np.random.randint(500, 15000, size = 1)[0],\n",
    "                                                         'repaid': random.choice([0, 1]), \n",
    "                                                         'loan_id': np.random.randint(10000, 12000, size = 1)[0],\n",
    "                                                         'loan_start': time_created,\n",
    "                                                         'loan_end': time_ended,\n",
    "                                                          'rate': round(abs(4 * np.random.randn(1)[0]), 2)}, index = [0]), ignore_index = True)\n"
   ]
  },
  {
   "cell_type": "code",
   "execution_count": 9,
   "metadata": {
    "ExecuteTime": {
     "end_time": "2021-07-26T12:34:17.988948Z",
     "start_time": "2021-07-26T12:34:17.954428Z"
    },
    "colab": {
     "autoexec": {
      "startup": false,
      "wait_interval": 0
     }
    },
    "colab_type": "code",
    "id": "S691c7oN_uVh"
   },
   "outputs": [
    {
     "data": {
      "text/html": [
       "<div>\n",
       "<style scoped>\n",
       "    .dataframe tbody tr th:only-of-type {\n",
       "        vertical-align: middle;\n",
       "    }\n",
       "\n",
       "    .dataframe tbody tr th {\n",
       "        vertical-align: top;\n",
       "    }\n",
       "\n",
       "    .dataframe thead th {\n",
       "        text-align: right;\n",
       "    }\n",
       "</style>\n",
       "<table border=\"1\" class=\"dataframe\">\n",
       "  <thead>\n",
       "    <tr style=\"text-align: right;\">\n",
       "      <th></th>\n",
       "      <th>client_id</th>\n",
       "      <th>loan_type</th>\n",
       "      <th>loan_amount</th>\n",
       "      <th>repaid</th>\n",
       "      <th>loan_id</th>\n",
       "      <th>loan_start</th>\n",
       "      <th>loan_end</th>\n",
       "      <th>rate</th>\n",
       "    </tr>\n",
       "  </thead>\n",
       "  <tbody>\n",
       "    <tr>\n",
       "      <th>0</th>\n",
       "      <td>26579</td>\n",
       "      <td>other</td>\n",
       "      <td>12869</td>\n",
       "      <td>0</td>\n",
       "      <td>11009</td>\n",
       "      <td>2000-09-14</td>\n",
       "      <td>2002-08-15</td>\n",
       "      <td>3.43</td>\n",
       "    </tr>\n",
       "    <tr>\n",
       "      <th>1</th>\n",
       "      <td>36238</td>\n",
       "      <td>credit</td>\n",
       "      <td>2852</td>\n",
       "      <td>1</td>\n",
       "      <td>11962</td>\n",
       "      <td>2006-07-03</td>\n",
       "      <td>2009-01-02</td>\n",
       "      <td>3.77</td>\n",
       "    </tr>\n",
       "    <tr>\n",
       "      <th>2</th>\n",
       "      <td>46134</td>\n",
       "      <td>home</td>\n",
       "      <td>1967</td>\n",
       "      <td>1</td>\n",
       "      <td>11985</td>\n",
       "      <td>2012-12-19</td>\n",
       "      <td>2014-11-26</td>\n",
       "      <td>0.55</td>\n",
       "    </tr>\n",
       "    <tr>\n",
       "      <th>3</th>\n",
       "      <td>32364</td>\n",
       "      <td>cash</td>\n",
       "      <td>14380</td>\n",
       "      <td>0</td>\n",
       "      <td>10721</td>\n",
       "      <td>2002-02-15</td>\n",
       "      <td>2003-11-13</td>\n",
       "      <td>0.22</td>\n",
       "    </tr>\n",
       "    <tr>\n",
       "      <th>4</th>\n",
       "      <td>25116</td>\n",
       "      <td>cash</td>\n",
       "      <td>12833</td>\n",
       "      <td>1</td>\n",
       "      <td>11000</td>\n",
       "      <td>2014-11-20</td>\n",
       "      <td>2016-10-03</td>\n",
       "      <td>0.13</td>\n",
       "    </tr>\n",
       "  </tbody>\n",
       "</table>\n",
       "</div>"
      ],
      "text/plain": [
       "  client_id loan_type loan_amount repaid loan_id loan_start   loan_end  rate\n",
       "0     26579     other       12869      0   11009 2000-09-14 2002-08-15  3.43\n",
       "1     36238    credit        2852      1   11962 2006-07-03 2009-01-02  3.77\n",
       "2     46134      home        1967      1   11985 2012-12-19 2014-11-26  0.55\n",
       "3     32364      cash       14380      0   10721 2002-02-15 2003-11-13  0.22\n",
       "4     25116      cash       12833      1   11000 2014-11-20 2016-10-03  0.13"
      ]
     },
     "execution_count": 9,
     "metadata": {},
     "output_type": "execute_result"
    }
   ],
   "source": [
    "loans.head()"
   ]
  },
  {
   "cell_type": "code",
   "execution_count": 10,
   "metadata": {
    "ExecuteTime": {
     "end_time": "2021-07-26T12:34:23.694599Z",
     "start_time": "2021-07-26T12:34:23.215387Z"
    },
    "colab": {
     "autoexec": {
      "startup": false,
      "wait_interval": 0
     }
    },
    "colab_type": "code",
    "id": "5CEOao2oAbco"
   },
   "outputs": [],
   "source": [
    "payments = pd.DataFrame(columns = ['loan_id', 'payment_amount', \n",
    "                                    'payment_date', 'missed'])\n",
    "\n",
    "for _, row in loans.iterrows():\n",
    "  time_created = row['loan_start']\n",
    "  payment_date = time_created + pd.Timedelta(days = 30)\n",
    "  loan_amount = row['loan_amount']\n",
    "  loan_id = row['loan_id']\n",
    "  payment_id = np.random.randint(10000, 12000, size = 1)[0]\n",
    "  for _ in range(np.random.randint(5, 10, size = 1)[0]):\n",
    "    payment_id += 1\n",
    "    payment_date += pd.Timedelta(days = np.random.randint(10, 50, size = 1)[0])\n",
    "    payments = payments.append(pd.DataFrame({'loan_id': loan_id, \n",
    "                                                               'payment_amount': np.random.randint(int(loan_amount / 10), int(loan_amount / 5), size = 1)[0],\n",
    "                                                               'payment_date': payment_date, 'missed': random.choice([0, 1])}, index = [0]), ignore_index = True)\n",
    "    "
   ]
  },
  {
   "cell_type": "code",
   "execution_count": 11,
   "metadata": {
    "ExecuteTime": {
     "end_time": "2021-07-26T12:34:24.558291Z",
     "start_time": "2021-07-26T12:34:24.538759Z"
    },
    "colab": {
     "autoexec": {
      "startup": false,
      "wait_interval": 0
     }
    },
    "colab_type": "code",
    "id": "6rhMZtlzDKUg"
   },
   "outputs": [
    {
     "data": {
      "text/html": [
       "<div>\n",
       "<style scoped>\n",
       "    .dataframe tbody tr th:only-of-type {\n",
       "        vertical-align: middle;\n",
       "    }\n",
       "\n",
       "    .dataframe tbody tr th {\n",
       "        vertical-align: top;\n",
       "    }\n",
       "\n",
       "    .dataframe thead th {\n",
       "        text-align: right;\n",
       "    }\n",
       "</style>\n",
       "<table border=\"1\" class=\"dataframe\">\n",
       "  <thead>\n",
       "    <tr style=\"text-align: right;\">\n",
       "      <th></th>\n",
       "      <th>loan_id</th>\n",
       "      <th>payment_amount</th>\n",
       "      <th>payment_date</th>\n",
       "      <th>missed</th>\n",
       "    </tr>\n",
       "  </thead>\n",
       "  <tbody>\n",
       "    <tr>\n",
       "      <th>0</th>\n",
       "      <td>11009</td>\n",
       "      <td>2189</td>\n",
       "      <td>2000-11-29</td>\n",
       "      <td>1</td>\n",
       "    </tr>\n",
       "    <tr>\n",
       "      <th>1</th>\n",
       "      <td>11009</td>\n",
       "      <td>1979</td>\n",
       "      <td>2001-01-08</td>\n",
       "      <td>0</td>\n",
       "    </tr>\n",
       "    <tr>\n",
       "      <th>2</th>\n",
       "      <td>11009</td>\n",
       "      <td>2048</td>\n",
       "      <td>2001-02-18</td>\n",
       "      <td>0</td>\n",
       "    </tr>\n",
       "    <tr>\n",
       "      <th>3</th>\n",
       "      <td>11009</td>\n",
       "      <td>2050</td>\n",
       "      <td>2001-04-07</td>\n",
       "      <td>0</td>\n",
       "    </tr>\n",
       "    <tr>\n",
       "      <th>4</th>\n",
       "      <td>11009</td>\n",
       "      <td>1852</td>\n",
       "      <td>2001-04-25</td>\n",
       "      <td>1</td>\n",
       "    </tr>\n",
       "  </tbody>\n",
       "</table>\n",
       "</div>"
      ],
      "text/plain": [
       "  loan_id payment_amount payment_date missed\n",
       "0   11009           2189   2000-11-29      1\n",
       "1   11009           1979   2001-01-08      0\n",
       "2   11009           2048   2001-02-18      0\n",
       "3   11009           2050   2001-04-07      0\n",
       "4   11009           1852   2001-04-25      1"
      ]
     },
     "execution_count": 11,
     "metadata": {},
     "output_type": "execute_result"
    }
   ],
   "source": [
    "payments.head()"
   ]
  },
  {
   "cell_type": "code",
   "execution_count": 12,
   "metadata": {
    "ExecuteTime": {
     "end_time": "2021-07-26T12:34:40.530265Z",
     "start_time": "2021-07-26T12:34:40.413267Z"
    },
    "colab": {
     "autoexec": {
      "startup": false,
      "wait_interval": 0
     }
    },
    "colab_type": "code",
    "id": "VQcf7a61DODf"
   },
   "outputs": [],
   "source": [
    "clients = clients.drop_duplicates(subset = 'client_id')\n",
    "loans = loans.drop_duplicates(subset = 'loan_id')\n",
    "\n",
    "\n",
    "clients.to_csv('clients.csv', index = False)\n",
    "loans.to_csv('loans.csv', index = False)\n",
    "payments.to_csv('payments.csv', index = False)"
   ]
  },
  {
   "cell_type": "code",
   "execution_count": null,
   "metadata": {},
   "outputs": [],
   "source": []
  }
 ],
 "metadata": {
  "colab": {
   "default_view": {},
   "name": "Feature Engineering Data Creation.ipynb",
   "private_outputs": true,
   "provenance": [],
   "version": "0.3.2",
   "views": {}
  },
  "kernelspec": {
   "display_name": "Python 3",
   "language": "python",
   "name": "python3"
  },
  "language_info": {
   "codemirror_mode": {
    "name": "ipython",
    "version": 3
   },
   "file_extension": ".py",
   "mimetype": "text/x-python",
   "name": "python",
   "nbconvert_exporter": "python",
   "pygments_lexer": "ipython3",
   "version": "3.8.3"
  }
 },
 "nbformat": 4,
 "nbformat_minor": 1
}
