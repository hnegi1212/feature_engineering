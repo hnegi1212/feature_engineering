{
 "cells": [
  {
   "cell_type": "markdown",
   "metadata": {
    "colab_type": "text",
    "id": "MockJ-NBFvgv"
   },
   "source": [
    "# Introduction: Automated Feature Engineering\n",
    "\n",
    "In this notebook, we will look at an exciting development in data science: automated feature engineering. A machine learning model can only learn from the data we give it, and making sure that data is relevant to the task is one of the most crucial steps in the machine learning pipeline (this is made clear in the excellent paper [\"A Few Useful Things to Know about Machine Learning\"](https://homes.cs.washington.edu/~pedrod/papers/cacm12.pdf)). \n",
    "\n",
    "However, manual feature engineering is a tedious task and is limited by both human imagination - there are only so many features we can think to create - and by time - creating new features is time-intensive. Ideally, there would be an objective method to create an array of diverse new candidate features that we can then use for a machine learning task. This process is meant to not replace the data scientist, but to make her job easier and allowing her to supplement domain knowledge with an automated workflow.\n",
    "\n",
    "In this notebook, we will walk through an implementation of using [Featuretools](https://www.featuretools.com/), an open-source Python library for automatically creating features with relational data (where the data is in structured tables). Although there are now many efforts working to enable automated model selection and hyperparameter tuning, there has been a lack of automating work on the feature engineering aspect of the pipeline. This library seeks to close that gap and the general methodology has been proven effective in both [machine learning competitions with the data science machine](https://github.com/HDI-Project/Data-Science-Machine) and [business use cases](https://www.featurelabs.com/blog/predicting-credit-card-fraud/). \n",
    "\n",
    "\n",
    "## Dataset\n",
    "\n",
    "To show the basic idea of featuretools we will use an example dataset consisting of three tables:\n",
    "\n",
    "* `clients`: information about clients at a credit union\n",
    "* `loans`: previous loans taken out by the clients\n",
    "* `payments`: payments made/missed on the previous loans\n",
    "\n",
    "The general problem of feature engineering is taking disparate data, often distributed across multiple tables, and combining it into a single table that can be used for training a machine learning model. Featuretools has the ability to do this for us, creating many new candidate features with minimal effort. These features are combined into a single table that can then be passed on to our model. \n",
    "\n",
    "First, let's load in the data and look at the problem we are working with."
   ]
  },
  {
   "cell_type": "code",
   "execution_count": 1,
   "metadata": {
    "ExecuteTime": {
     "end_time": "2021-07-28T10:06:44.122193Z",
     "start_time": "2021-07-28T10:06:44.110198Z"
    },
    "colab": {
     "autoexec": {
      "startup": false,
      "wait_interval": 0
     }
    },
    "colab_type": "code",
    "id": "4zDxrOS8F_t0"
   },
   "outputs": [],
   "source": [
    "# Run this if featuretools is not already installed\n",
    "# !pip install featuretools\n",
    "# !pip install dask\n",
    "# !pip install \"dask[dataframe]\" --upgrade"
   ]
  },
  {
   "cell_type": "code",
   "execution_count": 2,
   "metadata": {
    "ExecuteTime": {
     "end_time": "2021-07-28T10:07:02.490428Z",
     "start_time": "2021-07-28T10:06:44.125199Z"
    },
    "colab": {
     "autoexec": {
      "startup": false,
      "wait_interval": 0
     }
    },
    "colab_type": "code",
    "id": "Og7QpzFkFrf9"
   },
   "outputs": [],
   "source": [
    "# pandas and numpy for data manipulation\n",
    "import pandas as pd\n",
    "import numpy as np\n",
    "\n",
    "# featuretools for automated feature engineering\n",
    "import featuretools as ft\n",
    "\n",
    "# ignore warnings from pandas\n",
    "import warnings\n",
    "warnings.filterwarnings('ignore')"
   ]
  },
  {
   "cell_type": "code",
   "execution_count": 3,
   "metadata": {
    "ExecuteTime": {
     "end_time": "2021-07-28T10:07:02.538431Z",
     "start_time": "2021-07-28T10:07:02.493430Z"
    },
    "colab": {
     "autoexec": {
      "startup": false,
      "wait_interval": 0
     }
    },
    "colab_type": "code",
    "id": "BGkrloKKGbD2"
   },
   "outputs": [],
   "source": [
    "# Read in the data\n",
    "clients = pd.read_csv('data/clients.csv', parse_dates = ['joined'])\n",
    "loans = pd.read_csv('data/loans.csv', parse_dates = ['loan_start', 'loan_end'])\n",
    "payments = pd.read_csv('data/payments.csv', parse_dates = ['payment_date'])"
   ]
  },
  {
   "cell_type": "code",
   "execution_count": 4,
   "metadata": {
    "ExecuteTime": {
     "end_time": "2021-07-28T10:07:02.586428Z",
     "start_time": "2021-07-28T10:07:02.541430Z"
    },
    "colab": {
     "autoexec": {
      "startup": false,
      "wait_interval": 0
     }
    },
    "colab_type": "code",
    "id": "08ST5lOrrTxg"
   },
   "outputs": [
    {
     "data": {
      "text/html": [
       "<div>\n",
       "<style scoped>\n",
       "    .dataframe tbody tr th:only-of-type {\n",
       "        vertical-align: middle;\n",
       "    }\n",
       "\n",
       "    .dataframe tbody tr th {\n",
       "        vertical-align: top;\n",
       "    }\n",
       "\n",
       "    .dataframe thead th {\n",
       "        text-align: right;\n",
       "    }\n",
       "</style>\n",
       "<table border=\"1\" class=\"dataframe\">\n",
       "  <thead>\n",
       "    <tr style=\"text-align: right;\">\n",
       "      <th></th>\n",
       "      <th>client_id</th>\n",
       "      <th>joined</th>\n",
       "      <th>income</th>\n",
       "      <th>credit_score</th>\n",
       "    </tr>\n",
       "  </thead>\n",
       "  <tbody>\n",
       "    <tr>\n",
       "      <th>0</th>\n",
       "      <td>46109</td>\n",
       "      <td>2002-04-16</td>\n",
       "      <td>172677</td>\n",
       "      <td>527</td>\n",
       "    </tr>\n",
       "    <tr>\n",
       "      <th>1</th>\n",
       "      <td>49545</td>\n",
       "      <td>2007-11-14</td>\n",
       "      <td>104564</td>\n",
       "      <td>770</td>\n",
       "    </tr>\n",
       "    <tr>\n",
       "      <th>2</th>\n",
       "      <td>41480</td>\n",
       "      <td>2013-03-11</td>\n",
       "      <td>122607</td>\n",
       "      <td>585</td>\n",
       "    </tr>\n",
       "    <tr>\n",
       "      <th>3</th>\n",
       "      <td>46180</td>\n",
       "      <td>2001-11-06</td>\n",
       "      <td>43851</td>\n",
       "      <td>562</td>\n",
       "    </tr>\n",
       "    <tr>\n",
       "      <th>4</th>\n",
       "      <td>25707</td>\n",
       "      <td>2006-10-06</td>\n",
       "      <td>211422</td>\n",
       "      <td>621</td>\n",
       "    </tr>\n",
       "  </tbody>\n",
       "</table>\n",
       "</div>"
      ],
      "text/plain": [
       "   client_id     joined  income  credit_score\n",
       "0      46109 2002-04-16  172677           527\n",
       "1      49545 2007-11-14  104564           770\n",
       "2      41480 2013-03-11  122607           585\n",
       "3      46180 2001-11-06   43851           562\n",
       "4      25707 2006-10-06  211422           621"
      ]
     },
     "execution_count": 4,
     "metadata": {},
     "output_type": "execute_result"
    }
   ],
   "source": [
    "clients.head(5)"
   ]
  },
  {
   "cell_type": "code",
   "execution_count": 5,
   "metadata": {
    "ExecuteTime": {
     "end_time": "2021-07-28T10:07:02.618431Z",
     "start_time": "2021-07-28T10:07:02.589428Z"
    },
    "colab": {
     "autoexec": {
      "startup": false,
      "wait_interval": 0
     }
    },
    "colab_type": "code",
    "id": "S6TXsCZW3Rau"
   },
   "outputs": [
    {
     "data": {
      "text/html": [
       "<div>\n",
       "<style scoped>\n",
       "    .dataframe tbody tr th:only-of-type {\n",
       "        vertical-align: middle;\n",
       "    }\n",
       "\n",
       "    .dataframe tbody tr th {\n",
       "        vertical-align: top;\n",
       "    }\n",
       "\n",
       "    .dataframe thead th {\n",
       "        text-align: right;\n",
       "    }\n",
       "</style>\n",
       "<table border=\"1\" class=\"dataframe\">\n",
       "  <thead>\n",
       "    <tr style=\"text-align: right;\">\n",
       "      <th></th>\n",
       "      <th>client_id</th>\n",
       "      <th>loan_type</th>\n",
       "      <th>loan_amount</th>\n",
       "      <th>repaid</th>\n",
       "      <th>loan_id</th>\n",
       "      <th>loan_start</th>\n",
       "      <th>loan_end</th>\n",
       "      <th>rate</th>\n",
       "    </tr>\n",
       "  </thead>\n",
       "  <tbody>\n",
       "    <tr>\n",
       "      <th>0</th>\n",
       "      <td>46109</td>\n",
       "      <td>home</td>\n",
       "      <td>13672</td>\n",
       "      <td>0</td>\n",
       "      <td>10243</td>\n",
       "      <td>2002-04-16</td>\n",
       "      <td>2003-12-20</td>\n",
       "      <td>2.15</td>\n",
       "    </tr>\n",
       "    <tr>\n",
       "      <th>1</th>\n",
       "      <td>46109</td>\n",
       "      <td>credit</td>\n",
       "      <td>9794</td>\n",
       "      <td>0</td>\n",
       "      <td>10984</td>\n",
       "      <td>2003-10-21</td>\n",
       "      <td>2005-07-17</td>\n",
       "      <td>1.25</td>\n",
       "    </tr>\n",
       "    <tr>\n",
       "      <th>2</th>\n",
       "      <td>46109</td>\n",
       "      <td>home</td>\n",
       "      <td>12734</td>\n",
       "      <td>1</td>\n",
       "      <td>10990</td>\n",
       "      <td>2006-02-01</td>\n",
       "      <td>2007-07-05</td>\n",
       "      <td>0.68</td>\n",
       "    </tr>\n",
       "    <tr>\n",
       "      <th>3</th>\n",
       "      <td>46109</td>\n",
       "      <td>cash</td>\n",
       "      <td>12518</td>\n",
       "      <td>1</td>\n",
       "      <td>10596</td>\n",
       "      <td>2010-12-08</td>\n",
       "      <td>2013-05-05</td>\n",
       "      <td>1.24</td>\n",
       "    </tr>\n",
       "    <tr>\n",
       "      <th>4</th>\n",
       "      <td>46109</td>\n",
       "      <td>credit</td>\n",
       "      <td>14049</td>\n",
       "      <td>1</td>\n",
       "      <td>11415</td>\n",
       "      <td>2010-07-07</td>\n",
       "      <td>2012-05-21</td>\n",
       "      <td>3.13</td>\n",
       "    </tr>\n",
       "  </tbody>\n",
       "</table>\n",
       "</div>"
      ],
      "text/plain": [
       "   client_id loan_type  loan_amount  repaid  loan_id loan_start   loan_end  \\\n",
       "0      46109      home        13672       0    10243 2002-04-16 2003-12-20   \n",
       "1      46109    credit         9794       0    10984 2003-10-21 2005-07-17   \n",
       "2      46109      home        12734       1    10990 2006-02-01 2007-07-05   \n",
       "3      46109      cash        12518       1    10596 2010-12-08 2013-05-05   \n",
       "4      46109    credit        14049       1    11415 2010-07-07 2012-05-21   \n",
       "\n",
       "   rate  \n",
       "0  2.15  \n",
       "1  1.25  \n",
       "2  0.68  \n",
       "3  1.24  \n",
       "4  3.13  "
      ]
     },
     "execution_count": 5,
     "metadata": {},
     "output_type": "execute_result"
    }
   ],
   "source": [
    "loans.head(5)"
   ]
  },
  {
   "cell_type": "code",
   "execution_count": 6,
   "metadata": {
    "ExecuteTime": {
     "end_time": "2021-07-28T10:07:02.648428Z",
     "start_time": "2021-07-28T10:07:02.624431Z"
    },
    "colab": {
     "autoexec": {
      "startup": false,
      "wait_interval": 0
     }
    },
    "colab_type": "code",
    "id": "uIOMlPAD3TfZ"
   },
   "outputs": [
    {
     "data": {
      "text/html": [
       "<div>\n",
       "<style scoped>\n",
       "    .dataframe tbody tr th:only-of-type {\n",
       "        vertical-align: middle;\n",
       "    }\n",
       "\n",
       "    .dataframe tbody tr th {\n",
       "        vertical-align: top;\n",
       "    }\n",
       "\n",
       "    .dataframe thead th {\n",
       "        text-align: right;\n",
       "    }\n",
       "</style>\n",
       "<table border=\"1\" class=\"dataframe\">\n",
       "  <thead>\n",
       "    <tr style=\"text-align: right;\">\n",
       "      <th></th>\n",
       "      <th>loan_id</th>\n",
       "      <th>payment_amount</th>\n",
       "      <th>payment_date</th>\n",
       "      <th>missed</th>\n",
       "    </tr>\n",
       "  </thead>\n",
       "  <tbody>\n",
       "    <tr>\n",
       "      <th>0</th>\n",
       "      <td>10243</td>\n",
       "      <td>2369</td>\n",
       "      <td>2002-05-31</td>\n",
       "      <td>1</td>\n",
       "    </tr>\n",
       "    <tr>\n",
       "      <th>1</th>\n",
       "      <td>10243</td>\n",
       "      <td>2439</td>\n",
       "      <td>2002-06-18</td>\n",
       "      <td>1</td>\n",
       "    </tr>\n",
       "    <tr>\n",
       "      <th>2</th>\n",
       "      <td>10243</td>\n",
       "      <td>2662</td>\n",
       "      <td>2002-06-29</td>\n",
       "      <td>0</td>\n",
       "    </tr>\n",
       "    <tr>\n",
       "      <th>3</th>\n",
       "      <td>10243</td>\n",
       "      <td>2268</td>\n",
       "      <td>2002-07-20</td>\n",
       "      <td>0</td>\n",
       "    </tr>\n",
       "    <tr>\n",
       "      <th>4</th>\n",
       "      <td>10243</td>\n",
       "      <td>2027</td>\n",
       "      <td>2002-07-31</td>\n",
       "      <td>1</td>\n",
       "    </tr>\n",
       "  </tbody>\n",
       "</table>\n",
       "</div>"
      ],
      "text/plain": [
       "   loan_id  payment_amount payment_date  missed\n",
       "0    10243            2369   2002-05-31       1\n",
       "1    10243            2439   2002-06-18       1\n",
       "2    10243            2662   2002-06-29       0\n",
       "3    10243            2268   2002-07-20       0\n",
       "4    10243            2027   2002-07-31       1"
      ]
     },
     "execution_count": 6,
     "metadata": {},
     "output_type": "execute_result"
    }
   ],
   "source": [
    "payments.head(5)"
   ]
  },
  {
   "cell_type": "markdown",
   "metadata": {
    "colab_type": "text",
    "id": "AvmwEpIbrQIW"
   },
   "source": [
    "### Manual Feature Engineering Examples\n",
    "\n",
    "Let's show a few examples of features we might make by hand. We will keep this relatively simple to avoid doing too much work! First we will focus on a single dataframe before combining them together. In the `clients` dataframe, we can take the month of the `joined` column and the natural log of the `income` column. Later, we see these are known in featuretools as transformation feature primitives because they act on column in a single table. "
   ]
  },
  {
   "cell_type": "code",
   "execution_count": 7,
   "metadata": {
    "ExecuteTime": {
     "end_time": "2021-07-28T10:07:02.678427Z",
     "start_time": "2021-07-28T10:07:02.650430Z"
    }
   },
   "outputs": [
    {
     "data": {
      "text/html": [
       "<div>\n",
       "<style scoped>\n",
       "    .dataframe tbody tr th:only-of-type {\n",
       "        vertical-align: middle;\n",
       "    }\n",
       "\n",
       "    .dataframe tbody tr th {\n",
       "        vertical-align: top;\n",
       "    }\n",
       "\n",
       "    .dataframe thead th {\n",
       "        text-align: right;\n",
       "    }\n",
       "</style>\n",
       "<table border=\"1\" class=\"dataframe\">\n",
       "  <thead>\n",
       "    <tr style=\"text-align: right;\">\n",
       "      <th></th>\n",
       "      <th>client_id</th>\n",
       "      <th>joined</th>\n",
       "      <th>income</th>\n",
       "      <th>credit_score</th>\n",
       "    </tr>\n",
       "  </thead>\n",
       "  <tbody>\n",
       "    <tr>\n",
       "      <th>0</th>\n",
       "      <td>46109</td>\n",
       "      <td>2002-04-16</td>\n",
       "      <td>172677</td>\n",
       "      <td>527</td>\n",
       "    </tr>\n",
       "    <tr>\n",
       "      <th>1</th>\n",
       "      <td>49545</td>\n",
       "      <td>2007-11-14</td>\n",
       "      <td>104564</td>\n",
       "      <td>770</td>\n",
       "    </tr>\n",
       "  </tbody>\n",
       "</table>\n",
       "</div>"
      ],
      "text/plain": [
       "   client_id     joined  income  credit_score\n",
       "0      46109 2002-04-16  172677           527\n",
       "1      49545 2007-11-14  104564           770"
      ]
     },
     "execution_count": 7,
     "metadata": {},
     "output_type": "execute_result"
    }
   ],
   "source": [
    "clients.head(2)"
   ]
  },
  {
   "cell_type": "markdown",
   "metadata": {},
   "source": [
    "### Data Transformation example"
   ]
  },
  {
   "cell_type": "code",
   "execution_count": 8,
   "metadata": {
    "ExecuteTime": {
     "end_time": "2021-07-28T10:07:02.754428Z",
     "start_time": "2021-07-28T10:07:02.683430Z"
    },
    "colab": {
     "autoexec": {
      "startup": false,
      "wait_interval": 0
     }
    },
    "colab_type": "code",
    "id": "PRTEs9XSUz94"
   },
   "outputs": [
    {
     "data": {
      "text/html": [
       "<div>\n",
       "<style scoped>\n",
       "    .dataframe tbody tr th:only-of-type {\n",
       "        vertical-align: middle;\n",
       "    }\n",
       "\n",
       "    .dataframe tbody tr th {\n",
       "        vertical-align: top;\n",
       "    }\n",
       "\n",
       "    .dataframe thead th {\n",
       "        text-align: right;\n",
       "    }\n",
       "</style>\n",
       "<table border=\"1\" class=\"dataframe\">\n",
       "  <thead>\n",
       "    <tr style=\"text-align: right;\">\n",
       "      <th></th>\n",
       "      <th>client_id</th>\n",
       "      <th>joined</th>\n",
       "      <th>income</th>\n",
       "      <th>credit_score</th>\n",
       "      <th>join_month</th>\n",
       "      <th>log_income</th>\n",
       "    </tr>\n",
       "  </thead>\n",
       "  <tbody>\n",
       "    <tr>\n",
       "      <th>0</th>\n",
       "      <td>46109</td>\n",
       "      <td>2002-04-16</td>\n",
       "      <td>172677</td>\n",
       "      <td>527</td>\n",
       "      <td>4</td>\n",
       "      <td>12.059178</td>\n",
       "    </tr>\n",
       "    <tr>\n",
       "      <th>1</th>\n",
       "      <td>49545</td>\n",
       "      <td>2007-11-14</td>\n",
       "      <td>104564</td>\n",
       "      <td>770</td>\n",
       "      <td>11</td>\n",
       "      <td>11.557555</td>\n",
       "    </tr>\n",
       "    <tr>\n",
       "      <th>2</th>\n",
       "      <td>41480</td>\n",
       "      <td>2013-03-11</td>\n",
       "      <td>122607</td>\n",
       "      <td>585</td>\n",
       "      <td>3</td>\n",
       "      <td>11.716739</td>\n",
       "    </tr>\n",
       "    <tr>\n",
       "      <th>3</th>\n",
       "      <td>46180</td>\n",
       "      <td>2001-11-06</td>\n",
       "      <td>43851</td>\n",
       "      <td>562</td>\n",
       "      <td>11</td>\n",
       "      <td>10.688553</td>\n",
       "    </tr>\n",
       "    <tr>\n",
       "      <th>4</th>\n",
       "      <td>25707</td>\n",
       "      <td>2006-10-06</td>\n",
       "      <td>211422</td>\n",
       "      <td>621</td>\n",
       "      <td>10</td>\n",
       "      <td>12.261611</td>\n",
       "    </tr>\n",
       "  </tbody>\n",
       "</table>\n",
       "</div>"
      ],
      "text/plain": [
       "   client_id     joined  income  credit_score  join_month  log_income\n",
       "0      46109 2002-04-16  172677           527           4   12.059178\n",
       "1      49545 2007-11-14  104564           770          11   11.557555\n",
       "2      41480 2013-03-11  122607           585           3   11.716739\n",
       "3      46180 2001-11-06   43851           562          11   10.688553\n",
       "4      25707 2006-10-06  211422           621          10   12.261611"
      ]
     },
     "execution_count": 8,
     "metadata": {},
     "output_type": "execute_result"
    }
   ],
   "source": [
    "# Create a month column\n",
    "clients['join_month'] = clients['joined'].dt.month\n",
    "# Create a log of income column\n",
    "clients['log_income'] = np.log(clients['income'])\n",
    "clients.head()"
   ]
  },
  {
   "cell_type": "markdown",
   "metadata": {
    "colab_type": "text",
    "id": "reiPaTnVs2Yk"
   },
   "source": [
    "To incorporate information about the other tables, we use the `df.groupby` method, followed by a suitable aggregation function, followed by `df.merge`.  For example, let's calculate the average, minimum, and maximum amount of previous loans for each client. In the terms of featuretools, this would be considered an aggregation feature primitive because we using multiple tables in a one-to-many relationship to calculate aggregation figures (don't worry, this will be explained shortly!)."
   ]
  },
  {
   "cell_type": "markdown",
   "metadata": {},
   "source": [
    "### Data aggregation example (between loans table and clients table)"
   ]
  },
  {
   "cell_type": "code",
   "execution_count": 9,
   "metadata": {
    "ExecuteTime": {
     "end_time": "2021-07-28T10:07:02.784430Z",
     "start_time": "2021-07-28T10:07:02.758432Z"
    },
    "colab": {
     "autoexec": {
      "startup": false,
      "wait_interval": 0
     }
    },
    "colab_type": "code",
    "id": "rLOJHXqOs2GD"
   },
   "outputs": [
    {
     "data": {
      "text/html": [
       "<div>\n",
       "<style scoped>\n",
       "    .dataframe tbody tr th:only-of-type {\n",
       "        vertical-align: middle;\n",
       "    }\n",
       "\n",
       "    .dataframe tbody tr th {\n",
       "        vertical-align: top;\n",
       "    }\n",
       "\n",
       "    .dataframe thead th {\n",
       "        text-align: right;\n",
       "    }\n",
       "</style>\n",
       "<table border=\"1\" class=\"dataframe\">\n",
       "  <thead>\n",
       "    <tr style=\"text-align: right;\">\n",
       "      <th></th>\n",
       "      <th>mean_loan_amount</th>\n",
       "      <th>max_loan_amount</th>\n",
       "      <th>min_loan_amount</th>\n",
       "    </tr>\n",
       "    <tr>\n",
       "      <th>client_id</th>\n",
       "      <th></th>\n",
       "      <th></th>\n",
       "      <th></th>\n",
       "    </tr>\n",
       "  </thead>\n",
       "  <tbody>\n",
       "    <tr>\n",
       "      <th>25707</th>\n",
       "      <td>7963.950000</td>\n",
       "      <td>13913</td>\n",
       "      <td>1212</td>\n",
       "    </tr>\n",
       "    <tr>\n",
       "      <th>26326</th>\n",
       "      <td>7270.062500</td>\n",
       "      <td>13464</td>\n",
       "      <td>1164</td>\n",
       "    </tr>\n",
       "    <tr>\n",
       "      <th>26695</th>\n",
       "      <td>7824.722222</td>\n",
       "      <td>14865</td>\n",
       "      <td>2389</td>\n",
       "    </tr>\n",
       "    <tr>\n",
       "      <th>26945</th>\n",
       "      <td>7125.933333</td>\n",
       "      <td>14593</td>\n",
       "      <td>653</td>\n",
       "    </tr>\n",
       "    <tr>\n",
       "      <th>29841</th>\n",
       "      <td>9813.000000</td>\n",
       "      <td>14837</td>\n",
       "      <td>2778</td>\n",
       "    </tr>\n",
       "  </tbody>\n",
       "</table>\n",
       "</div>"
      ],
      "text/plain": [
       "           mean_loan_amount  max_loan_amount  min_loan_amount\n",
       "client_id                                                    \n",
       "25707           7963.950000            13913             1212\n",
       "26326           7270.062500            13464             1164\n",
       "26695           7824.722222            14865             2389\n",
       "26945           7125.933333            14593              653\n",
       "29841           9813.000000            14837             2778"
      ]
     },
     "execution_count": 9,
     "metadata": {},
     "output_type": "execute_result"
    }
   ],
   "source": [
    "# Groupby client id and calculate mean, max, min previous loan size\n",
    "stats = loans.groupby('client_id')['loan_amount'].agg(['mean', 'max', 'min'])\n",
    "stats.columns = ['mean_loan_amount', 'max_loan_amount', 'min_loan_amount']\n",
    "stats.head()"
   ]
  },
  {
   "cell_type": "code",
   "execution_count": 10,
   "metadata": {
    "ExecuteTime": {
     "end_time": "2021-07-28T10:07:02.816439Z",
     "start_time": "2021-07-28T10:07:02.788442Z"
    },
    "colab": {
     "autoexec": {
      "startup": false,
      "wait_interval": 0
     }
    },
    "colab_type": "code",
    "id": "Kf63VwWytmm8"
   },
   "outputs": [
    {
     "data": {
      "text/html": [
       "<div>\n",
       "<style scoped>\n",
       "    .dataframe tbody tr th:only-of-type {\n",
       "        vertical-align: middle;\n",
       "    }\n",
       "\n",
       "    .dataframe tbody tr th {\n",
       "        vertical-align: top;\n",
       "    }\n",
       "\n",
       "    .dataframe thead th {\n",
       "        text-align: right;\n",
       "    }\n",
       "</style>\n",
       "<table border=\"1\" class=\"dataframe\">\n",
       "  <thead>\n",
       "    <tr style=\"text-align: right;\">\n",
       "      <th></th>\n",
       "      <th>client_id</th>\n",
       "      <th>joined</th>\n",
       "      <th>income</th>\n",
       "      <th>credit_score</th>\n",
       "      <th>join_month</th>\n",
       "      <th>log_income</th>\n",
       "      <th>mean_loan_amount</th>\n",
       "      <th>max_loan_amount</th>\n",
       "      <th>min_loan_amount</th>\n",
       "    </tr>\n",
       "  </thead>\n",
       "  <tbody>\n",
       "    <tr>\n",
       "      <th>0</th>\n",
       "      <td>46109</td>\n",
       "      <td>2002-04-16</td>\n",
       "      <td>172677</td>\n",
       "      <td>527</td>\n",
       "      <td>4</td>\n",
       "      <td>12.059178</td>\n",
       "      <td>8951.60</td>\n",
       "      <td>14049</td>\n",
       "      <td>559</td>\n",
       "    </tr>\n",
       "    <tr>\n",
       "      <th>1</th>\n",
       "      <td>49545</td>\n",
       "      <td>2007-11-14</td>\n",
       "      <td>104564</td>\n",
       "      <td>770</td>\n",
       "      <td>11</td>\n",
       "      <td>11.557555</td>\n",
       "      <td>10289.30</td>\n",
       "      <td>14971</td>\n",
       "      <td>3851</td>\n",
       "    </tr>\n",
       "    <tr>\n",
       "      <th>2</th>\n",
       "      <td>41480</td>\n",
       "      <td>2013-03-11</td>\n",
       "      <td>122607</td>\n",
       "      <td>585</td>\n",
       "      <td>3</td>\n",
       "      <td>11.716739</td>\n",
       "      <td>7894.85</td>\n",
       "      <td>14399</td>\n",
       "      <td>811</td>\n",
       "    </tr>\n",
       "    <tr>\n",
       "      <th>3</th>\n",
       "      <td>46180</td>\n",
       "      <td>2001-11-06</td>\n",
       "      <td>43851</td>\n",
       "      <td>562</td>\n",
       "      <td>11</td>\n",
       "      <td>10.688553</td>\n",
       "      <td>7700.85</td>\n",
       "      <td>14081</td>\n",
       "      <td>1607</td>\n",
       "    </tr>\n",
       "    <tr>\n",
       "      <th>4</th>\n",
       "      <td>25707</td>\n",
       "      <td>2006-10-06</td>\n",
       "      <td>211422</td>\n",
       "      <td>621</td>\n",
       "      <td>10</td>\n",
       "      <td>12.261611</td>\n",
       "      <td>7963.95</td>\n",
       "      <td>13913</td>\n",
       "      <td>1212</td>\n",
       "    </tr>\n",
       "  </tbody>\n",
       "</table>\n",
       "</div>"
      ],
      "text/plain": [
       "   client_id     joined  income  credit_score  join_month  log_income  \\\n",
       "0      46109 2002-04-16  172677           527           4   12.059178   \n",
       "1      49545 2007-11-14  104564           770          11   11.557555   \n",
       "2      41480 2013-03-11  122607           585           3   11.716739   \n",
       "3      46180 2001-11-06   43851           562          11   10.688553   \n",
       "4      25707 2006-10-06  211422           621          10   12.261611   \n",
       "\n",
       "   mean_loan_amount  max_loan_amount  min_loan_amount  \n",
       "0           8951.60            14049              559  \n",
       "1          10289.30            14971             3851  \n",
       "2           7894.85            14399              811  \n",
       "3           7700.85            14081             1607  \n",
       "4           7963.95            13913             1212  "
      ]
     },
     "execution_count": 10,
     "metadata": {},
     "output_type": "execute_result"
    }
   ],
   "source": [
    "# Merge with the clients dataframe\n",
    "clients.merge(stats, left_on = 'client_id', right_index=True, how = 'left').head(5)"
   ]
  },
  {
   "cell_type": "markdown",
   "metadata": {
    "colab_type": "text",
    "id": "0aVnENNBt6pN"
   },
   "source": [
    "We could go further and include information about `payments` in the `clients` dataframe. To do so, we would have to group `payments` by the `loan_id`, merge it with the `loans`, group the resulting dataframe by the `client_id`, and then merge it into the `clients` dataframe. This would allow us to include information about previous payments for each client. \n",
    "\n",
    "Clearly, this process of manual feature engineering can grow quite tedious with many columns and multiple tables and I certainly don't want to have to do this process by hand! Luckily, featuretools can automatically perform this entire process and will create more features than we would have ever thought of. Although I love `pandas`, there is only so much manual data manipulation I'm willing to stand! "
   ]
  },
  {
   "cell_type": "markdown",
   "metadata": {
    "colab_type": "text",
    "id": "UWAPnDJruqNs"
   },
   "source": [
    "# Featuretools\n",
    "\n",
    "Now that we know what we are trying to avoid (tedious manual feature engineering), let's figure out how to automate this process. Featuretools operates on an idea known as [Deep Feature Synthesis](https://docs.featuretools.com/api_reference.html#deep-feature-synthesis). You can read the [original paper here](http://www.jmaxkanter.com/static/papers/DSAA_DSM_2015.pdf), and although it's quite readable, it's not necessary to understand the details to do automated feature engineering. The concept of Deep Feature Synthesis is to use basic building blocks known as feature primitives (like the transformations and aggregations done above) that can be stacked on top of each other to form new features. The depth of a \"deep feature\" is equal to the number of stacked primitives. \n",
    "\n",
    "I threw out some terms there, but don't worry because we'll cover them as we go. Featuretools builds on simple ideas to create a powerful method, and we will build up our understanding in much the same way. \n",
    "\n",
    "The first part of Featuretools to understand [is an `entity`](https://docs.featuretools.com/loading_data/using_entitysets.html#adding-entities). This is simply a table, or in `pandas`, a `DataFrame`. We corral multiple entities into a [single object called an `EntitySet`](https://docs.featuretools.com/loading_data/using_entitysets.html). This is just a large data structure composed of many individual entities and the relationships between them.  \n",
    "\n",
    "## EntitySet\n",
    "\n",
    "Creating a new `EntitySet` is pretty simple: "
   ]
  },
  {
   "cell_type": "code",
   "execution_count": 11,
   "metadata": {
    "ExecuteTime": {
     "end_time": "2021-07-28T10:07:02.832431Z",
     "start_time": "2021-07-28T10:07:02.819432Z"
    },
    "colab": {
     "autoexec": {
      "startup": false,
      "wait_interval": 0
     }
    },
    "colab_type": "code",
    "id": "XTwph48RGr9Q"
   },
   "outputs": [
    {
     "data": {
      "text/plain": [
       "Entityset: clients\n",
       "  Entities:\n",
       "  Relationships:\n",
       "    No relationships"
      ]
     },
     "execution_count": 11,
     "metadata": {},
     "output_type": "execute_result"
    }
   ],
   "source": [
    "es = ft.EntitySet(id = 'clients')\n",
    "es"
   ]
  },
  {
   "cell_type": "markdown",
   "metadata": {
    "colab_type": "text",
    "id": "pHJSYZU1Vro7"
   },
   "source": [
    "## Entities \n",
    "\n",
    "An entity is simply a table, which is represented in Pandas as a `dataframe`. Each entity must have a uniquely identifying column, known as an index. For the clients dataframe, this is the `client_id` because each id only appears once in the `clients` data. In the `loans` dataframe, `client_id` is not an index because each id might appear more than once. The index for this dataframe is instead `loan_id`. \n",
    "\n",
    "When we create an `entity` in featuretools, we have to identify which column of the dataframe is the index. If the data does not have a unique index we can tell featuretools to make an index for the entity by passing in `make_index = True` and specifying a name for the index. If the data also has a uniquely identifying time index, we can pass that in as the `time_index` parameter. \n",
    "\n",
    "Featuretools will automatically infer the variable types (numeric, categorical, datetime) of the columns in our data, but we can also pass in specific datatypes to override this behavior. As an example, even though the `repaid` column in the `loans` dataframe is represented as an integer, we can tell featuretools that this is a categorical feature since it can only take on two discrete values. This is done using an integer with the variables as keys and the feature types as values.\n",
    "\n",
    "In the code below we create the three entities and add them to the `EntitySet`.  The syntax is relatively straightforward with a few notes: for the `payments` dataframe we need to make an index, for the `loans` dataframe, we specify that `repaid` is a categorical variable, and for the `payments` dataframe, we specify that `missed` is a categorical feature. "
   ]
  },
  {
   "cell_type": "code",
   "execution_count": 12,
   "metadata": {
    "ExecuteTime": {
     "end_time": "2021-07-28T10:07:02.863431Z",
     "start_time": "2021-07-28T10:07:02.835433Z"
    },
    "colab": {
     "autoexec": {
      "startup": false,
      "wait_interval": 0
     }
    },
    "colab_type": "code",
    "id": "iWORNI1MGwYQ"
   },
   "outputs": [
    {
     "data": {
      "text/plain": [
       "Entityset: clients\n",
       "  Entities:\n",
       "    clients [Rows: 25, Columns: 6]\n",
       "  Relationships:\n",
       "    No relationships"
      ]
     },
     "execution_count": 12,
     "metadata": {},
     "output_type": "execute_result"
    }
   ],
   "source": [
    "# Create an entity from the client dataframe\n",
    "# This dataframe already has an index and a time index\n",
    "es = es.entity_from_dataframe(entity_id = 'clients', dataframe = clients, \n",
    "                              index = 'client_id', time_index = 'joined')\n",
    "es"
   ]
  },
  {
   "cell_type": "code",
   "execution_count": 13,
   "metadata": {
    "ExecuteTime": {
     "end_time": "2021-07-28T10:07:02.894430Z",
     "start_time": "2021-07-28T10:07:02.866432Z"
    },
    "colab": {
     "autoexec": {
      "startup": false,
      "wait_interval": 0
     }
    },
    "colab_type": "code",
    "id": "7_aDZl4IG98s"
   },
   "outputs": [
    {
     "data": {
      "text/plain": [
       "Entityset: clients\n",
       "  Entities:\n",
       "    clients [Rows: 25, Columns: 6]\n",
       "    loans [Rows: 443, Columns: 8]\n",
       "  Relationships:\n",
       "    No relationships"
      ]
     },
     "execution_count": 13,
     "metadata": {},
     "output_type": "execute_result"
    }
   ],
   "source": [
    "# Create an entity from the loans dataframe\n",
    "# This dataframe already has an index and a time index\n",
    "es = es.entity_from_dataframe(entity_id = 'loans', dataframe = loans, \n",
    "                              variable_types = {'repaid': ft.variable_types.Categorical},\n",
    "                              index = 'loan_id', \n",
    "                              time_index = 'loan_start')\n",
    "es"
   ]
  },
  {
   "cell_type": "code",
   "execution_count": 14,
   "metadata": {
    "ExecuteTime": {
     "end_time": "2021-07-28T10:07:02.926429Z",
     "start_time": "2021-07-28T10:07:02.897430Z"
    },
    "colab": {
     "autoexec": {
      "startup": false,
      "wait_interval": 0
     }
    },
    "colab_type": "code",
    "id": "8VAjTWWbSXmi"
   },
   "outputs": [
    {
     "data": {
      "text/plain": [
       "Entityset: clients\n",
       "  Entities:\n",
       "    clients [Rows: 25, Columns: 6]\n",
       "    loans [Rows: 443, Columns: 8]\n",
       "    payments [Rows: 3456, Columns: 5]\n",
       "  Relationships:\n",
       "    No relationships"
      ]
     },
     "execution_count": 14,
     "metadata": {},
     "output_type": "execute_result"
    }
   ],
   "source": [
    "# Create an entity from the payments dataframe\n",
    "# This does not yet have a unique index\n",
    "es = es.entity_from_dataframe(entity_id = 'payments', \n",
    "                              dataframe = payments,\n",
    "                              variable_types = {'missed': ft.variable_types.Categorical},\n",
    "                              make_index = True,\n",
    "                              index = 'payment_id',\n",
    "                              time_index = 'payment_date')\n",
    "es"
   ]
  },
  {
   "cell_type": "markdown",
   "metadata": {
    "colab_type": "text",
    "id": "xmQwcxRQXQAf"
   },
   "source": [
    "All three entities have been successfully added to the `EntitySet`. We can access any of the entities using Python dictionary syntax."
   ]
  },
  {
   "cell_type": "code",
   "execution_count": 15,
   "metadata": {
    "ExecuteTime": {
     "end_time": "2021-07-28T10:07:02.942432Z",
     "start_time": "2021-07-28T10:07:02.930431Z"
    }
   },
   "outputs": [
    {
     "data": {
      "text/plain": [
       "Entity: clients\n",
       "  Variables:\n",
       "    client_id (dtype: index)\n",
       "    joined (dtype: datetime_time_index)\n",
       "    income (dtype: numeric)\n",
       "    credit_score (dtype: numeric)\n",
       "    join_month (dtype: numeric)\n",
       "    log_income (dtype: numeric)\n",
       "  Shape:\n",
       "    (Rows: 25, Columns: 6)"
      ]
     },
     "execution_count": 15,
     "metadata": {},
     "output_type": "execute_result"
    }
   ],
   "source": [
    "es['clients']"
   ]
  },
  {
   "cell_type": "code",
   "execution_count": 16,
   "metadata": {
    "ExecuteTime": {
     "end_time": "2021-07-28T10:07:02.959430Z",
     "start_time": "2021-07-28T10:07:02.946433Z"
    },
    "colab": {
     "autoexec": {
      "startup": false,
      "wait_interval": 0
     }
    },
    "colab_type": "code",
    "id": "7rFib_OrXZiN"
   },
   "outputs": [
    {
     "data": {
      "text/plain": [
       "Entity: loans\n",
       "  Variables:\n",
       "    loan_id (dtype: index)\n",
       "    client_id (dtype: numeric)\n",
       "    loan_type (dtype: categorical)\n",
       "    loan_amount (dtype: numeric)\n",
       "    loan_start (dtype: datetime_time_index)\n",
       "    loan_end (dtype: datetime)\n",
       "    rate (dtype: numeric)\n",
       "    repaid (dtype: categorical)\n",
       "  Shape:\n",
       "    (Rows: 443, Columns: 8)"
      ]
     },
     "execution_count": 16,
     "metadata": {},
     "output_type": "execute_result"
    }
   ],
   "source": [
    "es['loans']"
   ]
  },
  {
   "cell_type": "markdown",
   "metadata": {
    "colab_type": "text",
    "id": "sZJ-HlanXduM"
   },
   "source": [
    "Featuretools correctly inferred each of the datatypes when we made this entity. We can also see that we overrode the type for the `repaid` feature, changing if from numeric to categorical. "
   ]
  },
  {
   "cell_type": "code",
   "execution_count": 17,
   "metadata": {
    "ExecuteTime": {
     "end_time": "2021-07-28T10:07:02.974433Z",
     "start_time": "2021-07-28T10:07:02.962431Z"
    }
   },
   "outputs": [
    {
     "data": {
      "text/plain": [
       "Entity: payments\n",
       "  Variables:\n",
       "    payment_id (dtype: index)\n",
       "    loan_id (dtype: numeric)\n",
       "    payment_amount (dtype: numeric)\n",
       "    payment_date (dtype: datetime_time_index)\n",
       "    missed (dtype: categorical)\n",
       "  Shape:\n",
       "    (Rows: 3456, Columns: 5)"
      ]
     },
     "execution_count": 17,
     "metadata": {},
     "output_type": "execute_result"
    }
   ],
   "source": [
    "es['payments']"
   ]
  },
  {
   "cell_type": "markdown",
   "metadata": {
    "colab_type": "text",
    "id": "fhs4qoakVNyk"
   },
   "source": [
    "## Relationships\n",
    "\n",
    "After defining the entities (tables) in an `EntitySet`, we now need to tell featuretools [how they are related with a relationship](https://docs.featuretools.com/loading_data/using_entitysets.html#adding-a-relationship). The most intuitive way to think of relationships is with the parent to child analogy: a parent-to-child relationship is one-to-many because for each parent, there can be multiple children. The `client` dataframe is therefore the parent of the `loans` dataframe because while there is only one row for each client in the `client` dataframe, each client may have several previous loans covering multiple rows in the `loans` dataframe. Likewise, the `loans` dataframe is the parent of the `payments` dataframe because each loan will have multiple payments. \n",
    "\n",
    "These relationships are what allow us to group together datapoints using aggregation primitives and then create new features. As an example, we can group all of the previous loans associated with one client and find the average loan amount. We will discuss the features themselves more in a little bit, but for now let's define the relationships. \n",
    "\n",
    "To define relationships, we need to specify the parent variable and the child variable. This is the variable that links two entities together. In our example, the `client` and `loans` dataframes are linked together by the `client_id` column. Again, this is a parent to child relationship because for each `client_id` in the parent `client` dataframe, there may be multiple entries of the same `client_id` in the child `loans` dataframe. \n",
    "\n",
    "We codify relationships in the language of featuretools by specifying the parent variable and then the child variable. After creating a relationship, we add it to the `EntitySet`. "
   ]
  },
  {
   "cell_type": "code",
   "execution_count": 18,
   "metadata": {
    "ExecuteTime": {
     "end_time": "2021-07-28T10:07:02.990431Z",
     "start_time": "2021-07-28T10:07:02.978433Z"
    },
    "colab": {
     "autoexec": {
      "startup": false,
      "wait_interval": 0
     }
    },
    "colab_type": "code",
    "id": "ChKZnFWTVJrh"
   },
   "outputs": [],
   "source": [
    "# Relationship between clients and previous loans\n",
    "r_client_previous = ft.Relationship(es['clients']['client_id'],\n",
    "                                    es['loans']['client_id'])\n",
    "\n",
    "# Add the relationship to the entity set\n",
    "es = es.add_relationship(r_client_previous)"
   ]
  },
  {
   "cell_type": "markdown",
   "metadata": {
    "colab_type": "text",
    "id": "DAPdMnwnZkHM"
   },
   "source": [
    "The relationship has now been stored in the entity set. The second relationship is between the `loans` and `payments`. These two entities are related by the `loan_id` variable."
   ]
  },
  {
   "cell_type": "code",
   "execution_count": 19,
   "metadata": {
    "ExecuteTime": {
     "end_time": "2021-07-28T10:07:03.022430Z",
     "start_time": "2021-07-28T10:07:02.993431Z"
    },
    "colab": {
     "autoexec": {
      "startup": false,
      "wait_interval": 0
     }
    },
    "colab_type": "code",
    "id": "DrgSGOEDZe6N"
   },
   "outputs": [
    {
     "data": {
      "text/plain": [
       "Entityset: clients\n",
       "  Entities:\n",
       "    clients [Rows: 25, Columns: 6]\n",
       "    loans [Rows: 443, Columns: 8]\n",
       "    payments [Rows: 3456, Columns: 5]\n",
       "  Relationships:\n",
       "    loans.client_id -> clients.client_id\n",
       "    payments.loan_id -> loans.loan_id"
      ]
     },
     "execution_count": 19,
     "metadata": {},
     "output_type": "execute_result"
    }
   ],
   "source": [
    "# Relationship between previous loans and previous payments\n",
    "r_payments = ft.Relationship(es['loans']['loan_id'],\n",
    "                                      es['payments']['loan_id'])\n",
    "\n",
    "# Add the relationship to the entity set\n",
    "es = es.add_relationship(r_payments)\n",
    "\n",
    "es"
   ]
  },
  {
   "cell_type": "markdown",
   "metadata": {
    "colab_type": "text",
    "id": "oeFZMQVIaBV4"
   },
   "source": [
    "We now have our entities in an entityset along with the relationships between them. We can now start to making new features from all of the tables using stacks of feature primitives to form deep features. First, let's cover feature primitives.\n",
    "\n",
    "\n",
    "## Feature Primitives\n",
    "\n",
    "A [feature primitive](https://docs.featuretools.com/automated_feature_engineering/primitives.html) a at a very high-level is an operation applied to data to create a feature. These represent very simple calculations that can be stacked on top of each other to create complex features. Feature primitives fall into two categories:\n",
    "\n",
    "* __Aggregation__: function that groups together child datapoints for each parent and then calculates a statistic such as mean, min, max, or standard deviation. An example is calculating the maximum loan amount for each client. An aggregation works across multiple tables using relationships between tables.\n",
    "* __Transformation__: an operation applied to one or more columns in a single table. An example would be extracting the day from dates, or finding the difference between two columns in one table.\n",
    "\n",
    "Let's take a look at feature primitives in featuretools. We can view the list of primitives:"
   ]
  },
  {
   "cell_type": "code",
   "execution_count": 20,
   "metadata": {
    "ExecuteTime": {
     "end_time": "2021-07-28T10:07:03.069430Z",
     "start_time": "2021-07-28T10:07:03.027434Z"
    }
   },
   "outputs": [
    {
     "data": {
      "text/html": [
       "<div>\n",
       "<style scoped>\n",
       "    .dataframe tbody tr th:only-of-type {\n",
       "        vertical-align: middle;\n",
       "    }\n",
       "\n",
       "    .dataframe tbody tr th {\n",
       "        vertical-align: top;\n",
       "    }\n",
       "\n",
       "    .dataframe thead th {\n",
       "        text-align: right;\n",
       "    }\n",
       "</style>\n",
       "<table border=\"1\" class=\"dataframe\">\n",
       "  <thead>\n",
       "    <tr style=\"text-align: right;\">\n",
       "      <th></th>\n",
       "      <th>name</th>\n",
       "      <th>type</th>\n",
       "      <th>dask_compatible</th>\n",
       "      <th>koalas_compatible</th>\n",
       "      <th>description</th>\n",
       "      <th>valid_inputs</th>\n",
       "      <th>return_type</th>\n",
       "    </tr>\n",
       "  </thead>\n",
       "  <tbody>\n",
       "    <tr>\n",
       "      <th>0</th>\n",
       "      <td>mean</td>\n",
       "      <td>aggregation</td>\n",
       "      <td>True</td>\n",
       "      <td>True</td>\n",
       "      <td>Computes the average for a list of values.</td>\n",
       "      <td>Numeric</td>\n",
       "      <td>Numeric</td>\n",
       "    </tr>\n",
       "    <tr>\n",
       "      <th>1</th>\n",
       "      <td>all</td>\n",
       "      <td>aggregation</td>\n",
       "      <td>True</td>\n",
       "      <td>False</td>\n",
       "      <td>Calculates if all values are 'True' in a list.</td>\n",
       "      <td>Boolean</td>\n",
       "      <td>Boolean</td>\n",
       "    </tr>\n",
       "    <tr>\n",
       "      <th>2</th>\n",
       "      <td>any</td>\n",
       "      <td>aggregation</td>\n",
       "      <td>True</td>\n",
       "      <td>False</td>\n",
       "      <td>Determines if any value is 'True' in a list.</td>\n",
       "      <td>Boolean</td>\n",
       "      <td>Boolean</td>\n",
       "    </tr>\n",
       "    <tr>\n",
       "      <th>3</th>\n",
       "      <td>count</td>\n",
       "      <td>aggregation</td>\n",
       "      <td>True</td>\n",
       "      <td>True</td>\n",
       "      <td>Determines the total number of values, excludi...</td>\n",
       "      <td>Index</td>\n",
       "      <td>Numeric</td>\n",
       "    </tr>\n",
       "    <tr>\n",
       "      <th>4</th>\n",
       "      <td>max</td>\n",
       "      <td>aggregation</td>\n",
       "      <td>True</td>\n",
       "      <td>True</td>\n",
       "      <td>Calculates the highest value, ignoring `NaN` v...</td>\n",
       "      <td>Numeric</td>\n",
       "      <td>Numeric</td>\n",
       "    </tr>\n",
       "  </tbody>\n",
       "</table>\n",
       "</div>"
      ],
      "text/plain": [
       "    name         type  dask_compatible  koalas_compatible  \\\n",
       "0   mean  aggregation             True               True   \n",
       "1    all  aggregation             True              False   \n",
       "2    any  aggregation             True              False   \n",
       "3  count  aggregation             True               True   \n",
       "4    max  aggregation             True               True   \n",
       "\n",
       "                                         description valid_inputs return_type  \n",
       "0         Computes the average for a list of values.      Numeric     Numeric  \n",
       "1     Calculates if all values are 'True' in a list.      Boolean     Boolean  \n",
       "2       Determines if any value is 'True' in a list.      Boolean     Boolean  \n",
       "3  Determines the total number of values, excludi...        Index     Numeric  \n",
       "4  Calculates the highest value, ignoring `NaN` v...      Numeric     Numeric  "
      ]
     },
     "execution_count": 20,
     "metadata": {},
     "output_type": "execute_result"
    }
   ],
   "source": [
    "primitives = ft.list_primitives()\n",
    "primitives.head()"
   ]
  },
  {
   "cell_type": "markdown",
   "metadata": {
    "ExecuteTime": {
     "end_time": "2021-07-28T07:20:47.427409Z",
     "start_time": "2021-07-28T07:20:47.414409Z"
    }
   },
   "source": [
    "### Create custom primitives"
   ]
  },
  {
   "cell_type": "code",
   "execution_count": 21,
   "metadata": {
    "ExecuteTime": {
     "end_time": "2021-07-28T10:07:03.084429Z",
     "start_time": "2021-07-28T10:07:03.073430Z"
    }
   },
   "outputs": [],
   "source": [
    "# Simple Custom Primitives\n",
    "\n",
    "# In [6]: from featuretools.primitives import make_agg_primitive, make_trans_primitive\n",
    "\n",
    "# In [7]: from featuretools.variable_types import Text, Numeric\n",
    "\n",
    "# In [8]: def absolute(column):\n",
    "#    ...:     return abs(column)\n",
    "#    ...: \n",
    "\n",
    "# In [9]: Absolute = make_trans_primitive(function=absolute,\n",
    "#    ...:                                 input_types=[Numeric],\n",
    "#    ...:                                 return_type=Numeric)"
   ]
  },
  {
   "cell_type": "markdown",
   "metadata": {
    "colab_type": "text",
    "id": "QWMofjqMdur6"
   },
   "source": [
    "If featuretools does not have enough primitives for us, we can [also make our own.](https://docs.featuretools.com/automated_feature_engineering/primitives.html#defining-custom-primitives) \n",
    "\n",
    "To get an idea of what a feature primitive actually does, let's try out a few on our data. Using primitives is surprisingly easy using the `ft.dfs` function (which stands for deep feature synthesis). In this function, we specify the entityset to use; the `target_entity`, which is the dataframe we want to make the features for (where the features end up); the `agg_primitives` which are the aggregation feature primitives; and the `trans_primitives` which are the transformation primitives to apply. \n",
    "\n",
    "In the following example, we are using the `EntitySet` we already created, the target entity is the `clients` dataframe because we want to make new features about each client, and then we specify a few aggregation and transformation primitives. "
   ]
  },
  {
   "cell_type": "code",
   "execution_count": 22,
   "metadata": {
    "ExecuteTime": {
     "end_time": "2021-07-28T10:07:03.099431Z",
     "start_time": "2021-07-28T10:07:03.088445Z"
    }
   },
   "outputs": [],
   "source": [
    "# ft.primitives.list_primitives().to_csv(\"list_prim.csv\")"
   ]
  },
  {
   "cell_type": "code",
   "execution_count": 23,
   "metadata": {
    "ExecuteTime": {
     "end_time": "2021-07-28T10:07:03.753448Z",
     "start_time": "2021-07-28T10:07:03.107428Z"
    },
    "colab": {
     "autoexec": {
      "startup": false,
      "wait_interval": 0
     }
    },
    "colab_type": "code",
    "id": "GVK71fusd8uF"
   },
   "outputs": [],
   "source": [
    "# Create new features using specified primitives\n",
    "features, feature_names = ft.dfs(entityset = es, target_entity = 'clients', \n",
    "                                 agg_primitives = ['mean', 'max', 'percent_true', 'last'],\n",
    "                                 trans_primitives = ['year', 'month', 'subtract_numeric', 'divide_numeric'])"
   ]
  },
  {
   "cell_type": "code",
   "execution_count": 24,
   "metadata": {
    "ExecuteTime": {
     "end_time": "2021-07-28T10:07:03.784299Z",
     "start_time": "2021-07-28T10:07:03.756301Z"
    }
   },
   "outputs": [
    {
     "data": {
      "text/html": [
       "<div>\n",
       "<style scoped>\n",
       "    .dataframe tbody tr th:only-of-type {\n",
       "        vertical-align: middle;\n",
       "    }\n",
       "\n",
       "    .dataframe tbody tr th {\n",
       "        vertical-align: top;\n",
       "    }\n",
       "\n",
       "    .dataframe thead th {\n",
       "        text-align: right;\n",
       "    }\n",
       "</style>\n",
       "<table border=\"1\" class=\"dataframe\">\n",
       "  <thead>\n",
       "    <tr style=\"text-align: right;\">\n",
       "      <th></th>\n",
       "      <th>income</th>\n",
       "      <th>credit_score</th>\n",
       "      <th>join_month</th>\n",
       "      <th>log_income</th>\n",
       "      <th>LAST(loans.loan_amount)</th>\n",
       "      <th>LAST(loans.loan_id)</th>\n",
       "      <th>LAST(loans.loan_type)</th>\n",
       "      <th>LAST(loans.rate)</th>\n",
       "      <th>LAST(loans.repaid)</th>\n",
       "      <th>MAX(loans.loan_amount)</th>\n",
       "      <th>...</th>\n",
       "      <th>join_month - MEAN(payments.payment_amount)</th>\n",
       "      <th>log_income - MAX(loans.loan_amount)</th>\n",
       "      <th>log_income - MAX(loans.rate)</th>\n",
       "      <th>log_income - MAX(payments.payment_amount)</th>\n",
       "      <th>log_income - MEAN(loans.loan_amount)</th>\n",
       "      <th>log_income - MEAN(loans.rate)</th>\n",
       "      <th>log_income - MEAN(payments.payment_amount)</th>\n",
       "      <th>YEAR(LAST(loans.loan_end))</th>\n",
       "      <th>YEAR(LAST(loans.loan_start))</th>\n",
       "      <th>YEAR(LAST(payments.payment_date))</th>\n",
       "    </tr>\n",
       "    <tr>\n",
       "      <th>client_id</th>\n",
       "      <th></th>\n",
       "      <th></th>\n",
       "      <th></th>\n",
       "      <th></th>\n",
       "      <th></th>\n",
       "      <th></th>\n",
       "      <th></th>\n",
       "      <th></th>\n",
       "      <th></th>\n",
       "      <th></th>\n",
       "      <th></th>\n",
       "      <th></th>\n",
       "      <th></th>\n",
       "      <th></th>\n",
       "      <th></th>\n",
       "      <th></th>\n",
       "      <th></th>\n",
       "      <th></th>\n",
       "      <th></th>\n",
       "      <th></th>\n",
       "      <th></th>\n",
       "    </tr>\n",
       "  </thead>\n",
       "  <tbody>\n",
       "    <tr>\n",
       "      <th>42320</th>\n",
       "      <td>229481</td>\n",
       "      <td>563</td>\n",
       "      <td>4</td>\n",
       "      <td>12.343576</td>\n",
       "      <td>8090</td>\n",
       "      <td>10156</td>\n",
       "      <td>home</td>\n",
       "      <td>3.18</td>\n",
       "      <td>0</td>\n",
       "      <td>13887</td>\n",
       "      <td>...</td>\n",
       "      <td>-1017.483333</td>\n",
       "      <td>-13874.656424</td>\n",
       "      <td>5.603576</td>\n",
       "      <td>-2756.656424</td>\n",
       "      <td>-7049.723091</td>\n",
       "      <td>9.886242</td>\n",
       "      <td>-1009.139758</td>\n",
       "      <td>2015</td>\n",
       "      <td>2012</td>\n",
       "      <td>2013</td>\n",
       "    </tr>\n",
       "    <tr>\n",
       "      <th>39384</th>\n",
       "      <td>191204</td>\n",
       "      <td>617</td>\n",
       "      <td>6</td>\n",
       "      <td>12.161096</td>\n",
       "      <td>14654</td>\n",
       "      <td>11735</td>\n",
       "      <td>other</td>\n",
       "      <td>2.26</td>\n",
       "      <td>0</td>\n",
       "      <td>14654</td>\n",
       "      <td>...</td>\n",
       "      <td>-1187.630137</td>\n",
       "      <td>-14641.838904</td>\n",
       "      <td>2.931096</td>\n",
       "      <td>-2809.838904</td>\n",
       "      <td>-7853.312588</td>\n",
       "      <td>8.622675</td>\n",
       "      <td>-1181.469041</td>\n",
       "      <td>2016</td>\n",
       "      <td>2014</td>\n",
       "      <td>2015</td>\n",
       "    </tr>\n",
       "    <tr>\n",
       "      <th>26945</th>\n",
       "      <td>214516</td>\n",
       "      <td>806</td>\n",
       "      <td>11</td>\n",
       "      <td>12.276140</td>\n",
       "      <td>9249</td>\n",
       "      <td>11482</td>\n",
       "      <td>cash</td>\n",
       "      <td>2.86</td>\n",
       "      <td>1</td>\n",
       "      <td>14593</td>\n",
       "      <td>...</td>\n",
       "      <td>-1098.473214</td>\n",
       "      <td>-14580.723860</td>\n",
       "      <td>6.626140</td>\n",
       "      <td>-2755.723860</td>\n",
       "      <td>-7113.657194</td>\n",
       "      <td>9.420806</td>\n",
       "      <td>-1097.197075</td>\n",
       "      <td>2016</td>\n",
       "      <td>2013</td>\n",
       "      <td>2014</td>\n",
       "    </tr>\n",
       "    <tr>\n",
       "      <th>41472</th>\n",
       "      <td>152214</td>\n",
       "      <td>638</td>\n",
       "      <td>11</td>\n",
       "      <td>11.933043</td>\n",
       "      <td>10122</td>\n",
       "      <td>11936</td>\n",
       "      <td>cash</td>\n",
       "      <td>1.03</td>\n",
       "      <td>0</td>\n",
       "      <td>13657</td>\n",
       "      <td>...</td>\n",
       "      <td>-1118.076190</td>\n",
       "      <td>-13645.066957</td>\n",
       "      <td>2.113043</td>\n",
       "      <td>-2424.066957</td>\n",
       "      <td>-7498.879457</td>\n",
       "      <td>7.951793</td>\n",
       "      <td>-1117.143148</td>\n",
       "      <td>2016</td>\n",
       "      <td>2014</td>\n",
       "      <td>2015</td>\n",
       "    </tr>\n",
       "    <tr>\n",
       "      <th>46180</th>\n",
       "      <td>43851</td>\n",
       "      <td>562</td>\n",
       "      <td>11</td>\n",
       "      <td>10.688553</td>\n",
       "      <td>3834</td>\n",
       "      <td>10887</td>\n",
       "      <td>other</td>\n",
       "      <td>1.38</td>\n",
       "      <td>0</td>\n",
       "      <td>14081</td>\n",
       "      <td>...</td>\n",
       "      <td>-1175.550336</td>\n",
       "      <td>-14070.311447</td>\n",
       "      <td>1.428553</td>\n",
       "      <td>-2649.311447</td>\n",
       "      <td>-7690.161447</td>\n",
       "      <td>7.186053</td>\n",
       "      <td>-1175.861783</td>\n",
       "      <td>2016</td>\n",
       "      <td>2014</td>\n",
       "      <td>2015</td>\n",
       "    </tr>\n",
       "  </tbody>\n",
       "</table>\n",
       "<p>5 rows × 289 columns</p>\n",
       "</div>"
      ],
      "text/plain": [
       "           income  credit_score  join_month  log_income  \\\n",
       "client_id                                                 \n",
       "42320      229481           563           4   12.343576   \n",
       "39384      191204           617           6   12.161096   \n",
       "26945      214516           806          11   12.276140   \n",
       "41472      152214           638          11   11.933043   \n",
       "46180       43851           562          11   10.688553   \n",
       "\n",
       "           LAST(loans.loan_amount)  LAST(loans.loan_id) LAST(loans.loan_type)  \\\n",
       "client_id                                                                       \n",
       "42320                         8090                10156                  home   \n",
       "39384                        14654                11735                 other   \n",
       "26945                         9249                11482                  cash   \n",
       "41472                        10122                11936                  cash   \n",
       "46180                         3834                10887                 other   \n",
       "\n",
       "           LAST(loans.rate)  LAST(loans.repaid)  MAX(loans.loan_amount)  ...  \\\n",
       "client_id                                                                ...   \n",
       "42320                  3.18                   0                   13887  ...   \n",
       "39384                  2.26                   0                   14654  ...   \n",
       "26945                  2.86                   1                   14593  ...   \n",
       "41472                  1.03                   0                   13657  ...   \n",
       "46180                  1.38                   0                   14081  ...   \n",
       "\n",
       "           join_month - MEAN(payments.payment_amount)  \\\n",
       "client_id                                               \n",
       "42320                                    -1017.483333   \n",
       "39384                                    -1187.630137   \n",
       "26945                                    -1098.473214   \n",
       "41472                                    -1118.076190   \n",
       "46180                                    -1175.550336   \n",
       "\n",
       "           log_income - MAX(loans.loan_amount)  log_income - MAX(loans.rate)  \\\n",
       "client_id                                                                      \n",
       "42320                            -13874.656424                      5.603576   \n",
       "39384                            -14641.838904                      2.931096   \n",
       "26945                            -14580.723860                      6.626140   \n",
       "41472                            -13645.066957                      2.113043   \n",
       "46180                            -14070.311447                      1.428553   \n",
       "\n",
       "           log_income - MAX(payments.payment_amount)  \\\n",
       "client_id                                              \n",
       "42320                                   -2756.656424   \n",
       "39384                                   -2809.838904   \n",
       "26945                                   -2755.723860   \n",
       "41472                                   -2424.066957   \n",
       "46180                                   -2649.311447   \n",
       "\n",
       "           log_income - MEAN(loans.loan_amount)  \\\n",
       "client_id                                         \n",
       "42320                              -7049.723091   \n",
       "39384                              -7853.312588   \n",
       "26945                              -7113.657194   \n",
       "41472                              -7498.879457   \n",
       "46180                              -7690.161447   \n",
       "\n",
       "           log_income - MEAN(loans.rate)  \\\n",
       "client_id                                  \n",
       "42320                           9.886242   \n",
       "39384                           8.622675   \n",
       "26945                           9.420806   \n",
       "41472                           7.951793   \n",
       "46180                           7.186053   \n",
       "\n",
       "           log_income - MEAN(payments.payment_amount)  \\\n",
       "client_id                                               \n",
       "42320                                    -1009.139758   \n",
       "39384                                    -1181.469041   \n",
       "26945                                    -1097.197075   \n",
       "41472                                    -1117.143148   \n",
       "46180                                    -1175.861783   \n",
       "\n",
       "           YEAR(LAST(loans.loan_end))  YEAR(LAST(loans.loan_start))  \\\n",
       "client_id                                                             \n",
       "42320                            2015                          2012   \n",
       "39384                            2016                          2014   \n",
       "26945                            2016                          2013   \n",
       "41472                            2016                          2014   \n",
       "46180                            2016                          2014   \n",
       "\n",
       "           YEAR(LAST(payments.payment_date))  \n",
       "client_id                                     \n",
       "42320                                   2013  \n",
       "39384                                   2015  \n",
       "26945                                   2014  \n",
       "41472                                   2015  \n",
       "46180                                   2015  \n",
       "\n",
       "[5 rows x 289 columns]"
      ]
     },
     "execution_count": 24,
     "metadata": {},
     "output_type": "execute_result"
    }
   ],
   "source": [
    "features.head()"
   ]
  },
  {
   "cell_type": "code",
   "execution_count": 25,
   "metadata": {
    "ExecuteTime": {
     "end_time": "2021-07-28T10:07:03.815299Z",
     "start_time": "2021-07-28T10:07:03.788304Z"
    }
   },
   "outputs": [
    {
     "data": {
      "text/plain": [
       "[<Feature: income>,\n",
       " <Feature: credit_score>,\n",
       " <Feature: join_month>,\n",
       " <Feature: log_income>,\n",
       " <Feature: LAST(loans.loan_amount)>,\n",
       " <Feature: LAST(loans.loan_id)>,\n",
       " <Feature: LAST(loans.loan_type)>,\n",
       " <Feature: LAST(loans.rate)>,\n",
       " <Feature: LAST(loans.repaid)>,\n",
       " <Feature: MAX(loans.loan_amount)>,\n",
       " <Feature: MAX(loans.rate)>,\n",
       " <Feature: MEAN(loans.loan_amount)>,\n",
       " <Feature: MEAN(loans.rate)>,\n",
       " <Feature: LAST(payments.missed)>,\n",
       " <Feature: LAST(payments.payment_amount)>,\n",
       " <Feature: LAST(payments.payment_id)>,\n",
       " <Feature: MAX(payments.payment_amount)>,\n",
       " <Feature: MEAN(payments.payment_amount)>,\n",
       " <Feature: credit_score / income>,\n",
       " <Feature: credit_score / join_month>,\n",
       " <Feature: credit_score / log_income>,\n",
       " <Feature: income / credit_score>,\n",
       " <Feature: income / join_month>,\n",
       " <Feature: income / log_income>,\n",
       " <Feature: join_month / credit_score>,\n",
       " <Feature: join_month / income>,\n",
       " <Feature: join_month / log_income>,\n",
       " <Feature: log_income / credit_score>,\n",
       " <Feature: log_income / income>,\n",
       " <Feature: log_income / join_month>,\n",
       " <Feature: MONTH(joined)>,\n",
       " <Feature: credit_score - income>,\n",
       " <Feature: credit_score - join_month>,\n",
       " <Feature: credit_score - log_income>,\n",
       " <Feature: income - join_month>,\n",
       " <Feature: income - log_income>,\n",
       " <Feature: join_month - log_income>,\n",
       " <Feature: YEAR(joined)>,\n",
       " <Feature: LAST(loans.MAX(payments.payment_amount))>,\n",
       " <Feature: LAST(loans.MEAN(payments.payment_amount))>,\n",
       " <Feature: LAST(loans.MONTH(loan_end))>,\n",
       " <Feature: LAST(loans.MONTH(loan_start))>,\n",
       " <Feature: LAST(loans.YEAR(loan_end))>,\n",
       " <Feature: LAST(loans.YEAR(loan_start))>,\n",
       " <Feature: LAST(loans.loan_amount - rate)>,\n",
       " <Feature: LAST(loans.loan_amount / rate)>,\n",
       " <Feature: LAST(loans.rate / loan_amount)>,\n",
       " <Feature: MAX(loans.LAST(payments.payment_amount))>,\n",
       " <Feature: MAX(loans.MEAN(payments.payment_amount))>,\n",
       " <Feature: MAX(loans.loan_amount - rate)>,\n",
       " <Feature: MAX(loans.loan_amount / rate)>,\n",
       " <Feature: MAX(loans.rate / loan_amount)>,\n",
       " <Feature: MEAN(loans.LAST(payments.payment_amount))>,\n",
       " <Feature: MEAN(loans.MAX(payments.payment_amount))>,\n",
       " <Feature: MEAN(loans.MEAN(payments.payment_amount))>,\n",
       " <Feature: MEAN(loans.loan_amount - rate)>,\n",
       " <Feature: MEAN(loans.loan_amount / rate)>,\n",
       " <Feature: MEAN(loans.rate / loan_amount)>,\n",
       " <Feature: LAST(payments.loans.client_id)>,\n",
       " <Feature: LAST(payments.loans.loan_amount)>,\n",
       " <Feature: LAST(payments.loans.loan_type)>,\n",
       " <Feature: LAST(payments.loans.rate)>,\n",
       " <Feature: LAST(payments.loans.repaid)>,\n",
       " <Feature: MAX(payments.loans.loan_amount)>,\n",
       " <Feature: MAX(payments.loans.rate)>,\n",
       " <Feature: MEAN(payments.loans.loan_amount)>,\n",
       " <Feature: MEAN(payments.loans.rate)>,\n",
       " <Feature: LAST(loans.loan_amount) / LAST(loans.rate)>,\n",
       " <Feature: LAST(loans.loan_amount) / LAST(payments.payment_amount)>,\n",
       " <Feature: LAST(loans.loan_amount) / MAX(loans.loan_amount)>,\n",
       " <Feature: LAST(loans.loan_amount) / MAX(loans.rate)>,\n",
       " <Feature: LAST(loans.loan_amount) / MAX(payments.payment_amount)>,\n",
       " <Feature: LAST(loans.loan_amount) / MEAN(loans.loan_amount)>,\n",
       " <Feature: LAST(loans.loan_amount) / MEAN(loans.rate)>,\n",
       " <Feature: LAST(loans.loan_amount) / MEAN(payments.payment_amount)>,\n",
       " <Feature: LAST(loans.loan_amount) / credit_score>,\n",
       " <Feature: LAST(loans.loan_amount) / income>,\n",
       " <Feature: LAST(loans.loan_amount) / join_month>,\n",
       " <Feature: LAST(loans.loan_amount) / log_income>,\n",
       " <Feature: LAST(loans.rate) / LAST(loans.loan_amount)>,\n",
       " <Feature: LAST(loans.rate) / LAST(payments.payment_amount)>,\n",
       " <Feature: LAST(loans.rate) / MAX(loans.loan_amount)>,\n",
       " <Feature: LAST(loans.rate) / MAX(loans.rate)>,\n",
       " <Feature: LAST(loans.rate) / MAX(payments.payment_amount)>,\n",
       " <Feature: LAST(loans.rate) / MEAN(loans.loan_amount)>,\n",
       " <Feature: LAST(loans.rate) / MEAN(loans.rate)>,\n",
       " <Feature: LAST(loans.rate) / MEAN(payments.payment_amount)>,\n",
       " <Feature: LAST(loans.rate) / credit_score>,\n",
       " <Feature: LAST(loans.rate) / income>,\n",
       " <Feature: LAST(loans.rate) / join_month>,\n",
       " <Feature: LAST(loans.rate) / log_income>,\n",
       " <Feature: LAST(payments.payment_amount) / LAST(loans.loan_amount)>,\n",
       " <Feature: LAST(payments.payment_amount) / LAST(loans.rate)>,\n",
       " <Feature: LAST(payments.payment_amount) / MAX(loans.loan_amount)>,\n",
       " <Feature: LAST(payments.payment_amount) / MAX(loans.rate)>,\n",
       " <Feature: LAST(payments.payment_amount) / MAX(payments.payment_amount)>,\n",
       " <Feature: LAST(payments.payment_amount) / MEAN(loans.loan_amount)>,\n",
       " <Feature: LAST(payments.payment_amount) / MEAN(loans.rate)>,\n",
       " <Feature: LAST(payments.payment_amount) / MEAN(payments.payment_amount)>,\n",
       " <Feature: LAST(payments.payment_amount) / credit_score>,\n",
       " <Feature: LAST(payments.payment_amount) / income>,\n",
       " <Feature: LAST(payments.payment_amount) / join_month>,\n",
       " <Feature: LAST(payments.payment_amount) / log_income>,\n",
       " <Feature: MAX(loans.loan_amount) / LAST(loans.loan_amount)>,\n",
       " <Feature: MAX(loans.loan_amount) / LAST(loans.rate)>,\n",
       " <Feature: MAX(loans.loan_amount) / LAST(payments.payment_amount)>,\n",
       " <Feature: MAX(loans.loan_amount) / MAX(loans.rate)>,\n",
       " <Feature: MAX(loans.loan_amount) / MAX(payments.payment_amount)>,\n",
       " <Feature: MAX(loans.loan_amount) / MEAN(loans.loan_amount)>,\n",
       " <Feature: MAX(loans.loan_amount) / MEAN(loans.rate)>,\n",
       " <Feature: MAX(loans.loan_amount) / MEAN(payments.payment_amount)>,\n",
       " <Feature: MAX(loans.loan_amount) / credit_score>,\n",
       " <Feature: MAX(loans.loan_amount) / income>,\n",
       " <Feature: MAX(loans.loan_amount) / join_month>,\n",
       " <Feature: MAX(loans.loan_amount) / log_income>,\n",
       " <Feature: MAX(loans.rate) / LAST(loans.loan_amount)>,\n",
       " <Feature: MAX(loans.rate) / LAST(loans.rate)>,\n",
       " <Feature: MAX(loans.rate) / LAST(payments.payment_amount)>,\n",
       " <Feature: MAX(loans.rate) / MAX(loans.loan_amount)>,\n",
       " <Feature: MAX(loans.rate) / MAX(payments.payment_amount)>,\n",
       " <Feature: MAX(loans.rate) / MEAN(loans.loan_amount)>,\n",
       " <Feature: MAX(loans.rate) / MEAN(loans.rate)>,\n",
       " <Feature: MAX(loans.rate) / MEAN(payments.payment_amount)>,\n",
       " <Feature: MAX(loans.rate) / credit_score>,\n",
       " <Feature: MAX(loans.rate) / income>,\n",
       " <Feature: MAX(loans.rate) / join_month>,\n",
       " <Feature: MAX(loans.rate) / log_income>,\n",
       " <Feature: MAX(payments.payment_amount) / LAST(loans.loan_amount)>,\n",
       " <Feature: MAX(payments.payment_amount) / LAST(loans.rate)>,\n",
       " <Feature: MAX(payments.payment_amount) / LAST(payments.payment_amount)>,\n",
       " <Feature: MAX(payments.payment_amount) / MAX(loans.loan_amount)>,\n",
       " <Feature: MAX(payments.payment_amount) / MAX(loans.rate)>,\n",
       " <Feature: MAX(payments.payment_amount) / MEAN(loans.loan_amount)>,\n",
       " <Feature: MAX(payments.payment_amount) / MEAN(loans.rate)>,\n",
       " <Feature: MAX(payments.payment_amount) / MEAN(payments.payment_amount)>,\n",
       " <Feature: MAX(payments.payment_amount) / credit_score>,\n",
       " <Feature: MAX(payments.payment_amount) / income>,\n",
       " <Feature: MAX(payments.payment_amount) / join_month>,\n",
       " <Feature: MAX(payments.payment_amount) / log_income>,\n",
       " <Feature: MEAN(loans.loan_amount) / LAST(loans.loan_amount)>,\n",
       " <Feature: MEAN(loans.loan_amount) / LAST(loans.rate)>,\n",
       " <Feature: MEAN(loans.loan_amount) / LAST(payments.payment_amount)>,\n",
       " <Feature: MEAN(loans.loan_amount) / MAX(loans.loan_amount)>,\n",
       " <Feature: MEAN(loans.loan_amount) / MAX(loans.rate)>,\n",
       " <Feature: MEAN(loans.loan_amount) / MAX(payments.payment_amount)>,\n",
       " <Feature: MEAN(loans.loan_amount) / MEAN(loans.rate)>,\n",
       " <Feature: MEAN(loans.loan_amount) / MEAN(payments.payment_amount)>,\n",
       " <Feature: MEAN(loans.loan_amount) / credit_score>,\n",
       " <Feature: MEAN(loans.loan_amount) / income>,\n",
       " <Feature: MEAN(loans.loan_amount) / join_month>,\n",
       " <Feature: MEAN(loans.loan_amount) / log_income>,\n",
       " <Feature: MEAN(loans.rate) / LAST(loans.loan_amount)>,\n",
       " <Feature: MEAN(loans.rate) / LAST(loans.rate)>,\n",
       " <Feature: MEAN(loans.rate) / LAST(payments.payment_amount)>,\n",
       " <Feature: MEAN(loans.rate) / MAX(loans.loan_amount)>,\n",
       " <Feature: MEAN(loans.rate) / MAX(loans.rate)>,\n",
       " <Feature: MEAN(loans.rate) / MAX(payments.payment_amount)>,\n",
       " <Feature: MEAN(loans.rate) / MEAN(loans.loan_amount)>,\n",
       " <Feature: MEAN(loans.rate) / MEAN(payments.payment_amount)>,\n",
       " <Feature: MEAN(loans.rate) / credit_score>,\n",
       " <Feature: MEAN(loans.rate) / income>,\n",
       " <Feature: MEAN(loans.rate) / join_month>,\n",
       " <Feature: MEAN(loans.rate) / log_income>,\n",
       " <Feature: MEAN(payments.payment_amount) / LAST(loans.loan_amount)>,\n",
       " <Feature: MEAN(payments.payment_amount) / LAST(loans.rate)>,\n",
       " <Feature: MEAN(payments.payment_amount) / LAST(payments.payment_amount)>,\n",
       " <Feature: MEAN(payments.payment_amount) / MAX(loans.loan_amount)>,\n",
       " <Feature: MEAN(payments.payment_amount) / MAX(loans.rate)>,\n",
       " <Feature: MEAN(payments.payment_amount) / MAX(payments.payment_amount)>,\n",
       " <Feature: MEAN(payments.payment_amount) / MEAN(loans.loan_amount)>,\n",
       " <Feature: MEAN(payments.payment_amount) / MEAN(loans.rate)>,\n",
       " <Feature: MEAN(payments.payment_amount) / credit_score>,\n",
       " <Feature: MEAN(payments.payment_amount) / income>,\n",
       " <Feature: MEAN(payments.payment_amount) / join_month>,\n",
       " <Feature: MEAN(payments.payment_amount) / log_income>,\n",
       " <Feature: credit_score / LAST(loans.loan_amount)>,\n",
       " <Feature: credit_score / LAST(loans.rate)>,\n",
       " <Feature: credit_score / LAST(payments.payment_amount)>,\n",
       " <Feature: credit_score / MAX(loans.loan_amount)>,\n",
       " <Feature: credit_score / MAX(loans.rate)>,\n",
       " <Feature: credit_score / MAX(payments.payment_amount)>,\n",
       " <Feature: credit_score / MEAN(loans.loan_amount)>,\n",
       " <Feature: credit_score / MEAN(loans.rate)>,\n",
       " <Feature: credit_score / MEAN(payments.payment_amount)>,\n",
       " <Feature: income / LAST(loans.loan_amount)>,\n",
       " <Feature: income / LAST(loans.rate)>,\n",
       " <Feature: income / LAST(payments.payment_amount)>,\n",
       " <Feature: income / MAX(loans.loan_amount)>,\n",
       " <Feature: income / MAX(loans.rate)>,\n",
       " <Feature: income / MAX(payments.payment_amount)>,\n",
       " <Feature: income / MEAN(loans.loan_amount)>,\n",
       " <Feature: income / MEAN(loans.rate)>,\n",
       " <Feature: income / MEAN(payments.payment_amount)>,\n",
       " <Feature: join_month / LAST(loans.loan_amount)>,\n",
       " <Feature: join_month / LAST(loans.rate)>,\n",
       " <Feature: join_month / LAST(payments.payment_amount)>,\n",
       " <Feature: join_month / MAX(loans.loan_amount)>,\n",
       " <Feature: join_month / MAX(loans.rate)>,\n",
       " <Feature: join_month / MAX(payments.payment_amount)>,\n",
       " <Feature: join_month / MEAN(loans.loan_amount)>,\n",
       " <Feature: join_month / MEAN(loans.rate)>,\n",
       " <Feature: join_month / MEAN(payments.payment_amount)>,\n",
       " <Feature: log_income / LAST(loans.loan_amount)>,\n",
       " <Feature: log_income / LAST(loans.rate)>,\n",
       " <Feature: log_income / LAST(payments.payment_amount)>,\n",
       " <Feature: log_income / MAX(loans.loan_amount)>,\n",
       " <Feature: log_income / MAX(loans.rate)>,\n",
       " <Feature: log_income / MAX(payments.payment_amount)>,\n",
       " <Feature: log_income / MEAN(loans.loan_amount)>,\n",
       " <Feature: log_income / MEAN(loans.rate)>,\n",
       " <Feature: log_income / MEAN(payments.payment_amount)>,\n",
       " <Feature: MONTH(LAST(loans.loan_end))>,\n",
       " <Feature: MONTH(LAST(loans.loan_start))>,\n",
       " <Feature: MONTH(LAST(payments.payment_date))>,\n",
       " <Feature: LAST(loans.loan_amount) - LAST(loans.rate)>,\n",
       " <Feature: LAST(loans.loan_amount) - LAST(payments.payment_amount)>,\n",
       " <Feature: LAST(loans.loan_amount) - MAX(loans.loan_amount)>,\n",
       " <Feature: LAST(loans.loan_amount) - MAX(loans.rate)>,\n",
       " <Feature: LAST(loans.loan_amount) - MAX(payments.payment_amount)>,\n",
       " <Feature: LAST(loans.loan_amount) - MEAN(loans.loan_amount)>,\n",
       " <Feature: LAST(loans.loan_amount) - MEAN(loans.rate)>,\n",
       " <Feature: LAST(loans.loan_amount) - MEAN(payments.payment_amount)>,\n",
       " <Feature: LAST(loans.loan_amount) - log_income>,\n",
       " <Feature: LAST(loans.rate) - LAST(payments.payment_amount)>,\n",
       " <Feature: LAST(loans.rate) - MAX(loans.loan_amount)>,\n",
       " <Feature: LAST(loans.rate) - MAX(loans.rate)>,\n",
       " <Feature: LAST(loans.rate) - MAX(payments.payment_amount)>,\n",
       " <Feature: LAST(loans.rate) - MEAN(loans.loan_amount)>,\n",
       " <Feature: LAST(loans.rate) - MEAN(loans.rate)>,\n",
       " <Feature: LAST(loans.rate) - MEAN(payments.payment_amount)>,\n",
       " <Feature: LAST(loans.rate) - log_income>,\n",
       " <Feature: LAST(payments.payment_amount) - MAX(loans.loan_amount)>,\n",
       " <Feature: LAST(payments.payment_amount) - MAX(loans.rate)>,\n",
       " <Feature: LAST(payments.payment_amount) - MAX(payments.payment_amount)>,\n",
       " <Feature: LAST(payments.payment_amount) - MEAN(loans.loan_amount)>,\n",
       " <Feature: LAST(payments.payment_amount) - MEAN(loans.rate)>,\n",
       " <Feature: LAST(payments.payment_amount) - MEAN(payments.payment_amount)>,\n",
       " <Feature: LAST(payments.payment_amount) - log_income>,\n",
       " <Feature: MAX(loans.loan_amount) - MAX(loans.rate)>,\n",
       " <Feature: MAX(loans.loan_amount) - MAX(payments.payment_amount)>,\n",
       " <Feature: MAX(loans.loan_amount) - MEAN(loans.loan_amount)>,\n",
       " <Feature: MAX(loans.loan_amount) - MEAN(loans.rate)>,\n",
       " <Feature: MAX(loans.loan_amount) - MEAN(payments.payment_amount)>,\n",
       " <Feature: MAX(loans.rate) - MAX(payments.payment_amount)>,\n",
       " <Feature: MAX(loans.rate) - MEAN(loans.loan_amount)>,\n",
       " <Feature: MAX(loans.rate) - MEAN(loans.rate)>,\n",
       " <Feature: MAX(loans.rate) - MEAN(payments.payment_amount)>,\n",
       " <Feature: MAX(payments.payment_amount) - MEAN(loans.loan_amount)>,\n",
       " <Feature: MAX(payments.payment_amount) - MEAN(loans.rate)>,\n",
       " <Feature: MAX(payments.payment_amount) - MEAN(payments.payment_amount)>,\n",
       " <Feature: MEAN(loans.loan_amount) - MEAN(loans.rate)>,\n",
       " <Feature: MEAN(loans.loan_amount) - MEAN(payments.payment_amount)>,\n",
       " <Feature: MEAN(loans.rate) - MEAN(payments.payment_amount)>,\n",
       " <Feature: credit_score - LAST(loans.loan_amount)>,\n",
       " <Feature: credit_score - LAST(loans.rate)>,\n",
       " <Feature: credit_score - LAST(payments.payment_amount)>,\n",
       " <Feature: credit_score - MAX(loans.loan_amount)>,\n",
       " <Feature: credit_score - MAX(loans.rate)>,\n",
       " <Feature: credit_score - MAX(payments.payment_amount)>,\n",
       " <Feature: credit_score - MEAN(loans.loan_amount)>,\n",
       " <Feature: credit_score - MEAN(loans.rate)>,\n",
       " <Feature: credit_score - MEAN(payments.payment_amount)>,\n",
       " <Feature: income - LAST(loans.loan_amount)>,\n",
       " <Feature: income - LAST(loans.rate)>,\n",
       " <Feature: income - LAST(payments.payment_amount)>,\n",
       " <Feature: income - MAX(loans.loan_amount)>,\n",
       " <Feature: income - MAX(loans.rate)>,\n",
       " <Feature: income - MAX(payments.payment_amount)>,\n",
       " <Feature: income - MEAN(loans.loan_amount)>,\n",
       " <Feature: income - MEAN(loans.rate)>,\n",
       " <Feature: income - MEAN(payments.payment_amount)>,\n",
       " <Feature: join_month - LAST(loans.loan_amount)>,\n",
       " <Feature: join_month - LAST(loans.rate)>,\n",
       " <Feature: join_month - LAST(payments.payment_amount)>,\n",
       " <Feature: join_month - MAX(loans.loan_amount)>,\n",
       " <Feature: join_month - MAX(loans.rate)>,\n",
       " <Feature: join_month - MAX(payments.payment_amount)>,\n",
       " <Feature: join_month - MEAN(loans.loan_amount)>,\n",
       " <Feature: join_month - MEAN(loans.rate)>,\n",
       " <Feature: join_month - MEAN(payments.payment_amount)>,\n",
       " <Feature: log_income - MAX(loans.loan_amount)>,\n",
       " <Feature: log_income - MAX(loans.rate)>,\n",
       " <Feature: log_income - MAX(payments.payment_amount)>,\n",
       " <Feature: log_income - MEAN(loans.loan_amount)>,\n",
       " <Feature: log_income - MEAN(loans.rate)>,\n",
       " <Feature: log_income - MEAN(payments.payment_amount)>,\n",
       " <Feature: YEAR(LAST(loans.loan_end))>,\n",
       " <Feature: YEAR(LAST(loans.loan_start))>,\n",
       " <Feature: YEAR(LAST(payments.payment_date))>]"
      ]
     },
     "execution_count": 25,
     "metadata": {},
     "output_type": "execute_result"
    }
   ],
   "source": [
    "#columns that are created\n",
    "feature_names"
   ]
  },
  {
   "cell_type": "markdown",
   "metadata": {
    "colab_type": "text",
    "id": "C0kKwJHQfP9J"
   },
   "source": [
    "Already we can see how useful featuretools is: it performed the same operations we did manually but also many more in addition. Examining the names of the features in the dataframe brings us to the final piece of the puzzle: deep features.\n",
    "\n",
    "## Deep Feature Synthesis\n",
    "\n",
    "While feature primitives are useful by themselves, the main benefit of using featuretools arises when we stack primitives to get deep features. The depth of a feature is simply the number of primitives required to make a feature. So, a feature that relies on a single aggregation would be a deep feature with a depth of 1, a feature that stacks two primitives would have a depth of 2 and so on. The idea itself is lot simpler than the name \"deep feature synthesis\" implies. (I think the authors were trying to ride the way of deep neural network hype when they named the method!) To read more about deep feature synthesis, check out [the documentation](https://docs.featuretools.com/automated_feature_engineering/afe.html) or the [original paper by Max Kanter et al](http://www.jmaxkanter.com/static/papers/DSAA_DSM_2015.pdf). \n",
    "\n",
    "Already in the dataframe we made by specifying the primitives manually we can see the idea of feature depth. For instance, the MEAN(loans.loan_amount) feature has a depth of 1 because it is made by applying a single aggregation primitive. This feature represents the average size of a client's previous loans."
   ]
  },
  {
   "cell_type": "markdown",
   "metadata": {
    "colab_type": "text",
    "id": "b3FttmpFdDoo"
   },
   "source": [
    "As well scroll through the features, we see a number of features with a depth of 2. For example, the LAST(loans.(MEAN(payments.payment_amount))) has depth = 2 because it is made by stacking two feature primitives, first an aggregation and then a transformation. This feature represents the average payment amount for the last (most recent) loan for each client."
   ]
  },
  {
   "cell_type": "markdown",
   "metadata": {
    "colab_type": "text",
    "id": "wyxx5JFph2S8"
   },
   "source": [
    "We can create features of arbitrary depth by stacking more primitives. However, when I have used featuretools I've never gone beyond a depth of 2! After this point, the features become very convoluted to understand. I'd encourage anyone interested to experiment with increasing the depth (maybe for a real problem) and see if there is value to \"going deeper\".\n",
    "\n",
    "## Automated Deep Feature Synthesis\n",
    "\n",
    "In addition to manually specifying aggregation and transformation feature primitives, we can let featuretools automatically generate many new features. We do this by making the same `ft.dfs` function call, but without passing in any primitives. We just set the `max_depth` parameter and featuretools will automatically try many all combinations of feature primitives to the ordered depth. \n",
    "\n",
    "When running on large datasets, this process can take quite a while, but for our example data, it will be relatively quick. For this call, we only need to specify the `entityset`, the `target_entity` (which will again be `clients`), and the `max_depth`. "
   ]
  },
  {
   "cell_type": "code",
   "execution_count": 28,
   "metadata": {
    "ExecuteTime": {
     "end_time": "2021-07-28T10:07:04.394085Z",
     "start_time": "2021-07-28T10:07:03.849303Z"
    },
    "colab": {
     "autoexec": {
      "startup": false,
      "wait_interval": 0
     }
    },
    "colab_type": "code",
    "id": "iKQx-y2mgv_x"
   },
   "outputs": [
    {
     "name": "stdout",
     "output_type": "stream",
     "text": [
      "Built 112 features\n",
      "Elapsed: 00:00 | Progress: 100%|███████████████████████████████████████████████████████████████████████████████████████\n"
     ]
    }
   ],
   "source": [
    "# Perform deep feature synthesis without specifying primitives\n",
    "features, feature_names = ft.dfs(entityset=es, target_entity='clients', \n",
    "                                 max_depth = 2,verbose = 1)"
   ]
  },
  {
   "cell_type": "code",
   "execution_count": 29,
   "metadata": {
    "ExecuteTime": {
     "end_time": "2021-07-28T10:07:04.425177Z",
     "start_time": "2021-07-28T10:07:04.396087Z"
    },
    "colab": {
     "autoexec": {
      "startup": false,
      "wait_interval": 0
     }
    },
    "colab_type": "code",
    "id": "H-CsAUe6jS0F"
   },
   "outputs": [
    {
     "data": {
      "text/html": [
       "<div>\n",
       "<style scoped>\n",
       "    .dataframe tbody tr th:only-of-type {\n",
       "        vertical-align: middle;\n",
       "    }\n",
       "\n",
       "    .dataframe tbody tr th {\n",
       "        vertical-align: top;\n",
       "    }\n",
       "\n",
       "    .dataframe thead th {\n",
       "        text-align: right;\n",
       "    }\n",
       "</style>\n",
       "<table border=\"1\" class=\"dataframe\">\n",
       "  <thead>\n",
       "    <tr style=\"text-align: right;\">\n",
       "      <th></th>\n",
       "      <th>income</th>\n",
       "      <th>credit_score</th>\n",
       "      <th>join_month</th>\n",
       "      <th>log_income</th>\n",
       "      <th>COUNT(loans)</th>\n",
       "      <th>MAX(loans.loan_amount)</th>\n",
       "      <th>MAX(loans.rate)</th>\n",
       "      <th>MEAN(loans.loan_amount)</th>\n",
       "      <th>MEAN(loans.rate)</th>\n",
       "      <th>MIN(loans.loan_amount)</th>\n",
       "      <th>...</th>\n",
       "      <th>MODE(payments.loans.repaid)</th>\n",
       "      <th>NUM_UNIQUE(payments.loans.client_id)</th>\n",
       "      <th>NUM_UNIQUE(payments.loans.loan_type)</th>\n",
       "      <th>NUM_UNIQUE(payments.loans.repaid)</th>\n",
       "      <th>SKEW(payments.loans.loan_amount)</th>\n",
       "      <th>SKEW(payments.loans.rate)</th>\n",
       "      <th>STD(payments.loans.loan_amount)</th>\n",
       "      <th>STD(payments.loans.rate)</th>\n",
       "      <th>SUM(payments.loans.loan_amount)</th>\n",
       "      <th>SUM(payments.loans.rate)</th>\n",
       "    </tr>\n",
       "    <tr>\n",
       "      <th>client_id</th>\n",
       "      <th></th>\n",
       "      <th></th>\n",
       "      <th></th>\n",
       "      <th></th>\n",
       "      <th></th>\n",
       "      <th></th>\n",
       "      <th></th>\n",
       "      <th></th>\n",
       "      <th></th>\n",
       "      <th></th>\n",
       "      <th></th>\n",
       "      <th></th>\n",
       "      <th></th>\n",
       "      <th></th>\n",
       "      <th></th>\n",
       "      <th></th>\n",
       "      <th></th>\n",
       "      <th></th>\n",
       "      <th></th>\n",
       "      <th></th>\n",
       "      <th></th>\n",
       "    </tr>\n",
       "  </thead>\n",
       "  <tbody>\n",
       "    <tr>\n",
       "      <th>42320</th>\n",
       "      <td>229481</td>\n",
       "      <td>563</td>\n",
       "      <td>4</td>\n",
       "      <td>12.343576</td>\n",
       "      <td>15</td>\n",
       "      <td>13887</td>\n",
       "      <td>6.74</td>\n",
       "      <td>7062.066667</td>\n",
       "      <td>2.457333</td>\n",
       "      <td>1070</td>\n",
       "      <td>...</td>\n",
       "      <td>1</td>\n",
       "      <td>1</td>\n",
       "      <td>4</td>\n",
       "      <td>2</td>\n",
       "      <td>0.097213</td>\n",
       "      <td>0.872916</td>\n",
       "      <td>3929.351652</td>\n",
       "      <td>1.891948</td>\n",
       "      <td>843367</td>\n",
       "      <td>302.84</td>\n",
       "    </tr>\n",
       "    <tr>\n",
       "      <th>39384</th>\n",
       "      <td>191204</td>\n",
       "      <td>617</td>\n",
       "      <td>6</td>\n",
       "      <td>12.161096</td>\n",
       "      <td>19</td>\n",
       "      <td>14654</td>\n",
       "      <td>9.23</td>\n",
       "      <td>7865.473684</td>\n",
       "      <td>3.538421</td>\n",
       "      <td>1770</td>\n",
       "      <td>...</td>\n",
       "      <td>1</td>\n",
       "      <td>1</td>\n",
       "      <td>4</td>\n",
       "      <td>2</td>\n",
       "      <td>-0.277360</td>\n",
       "      <td>0.971757</td>\n",
       "      <td>3765.368569</td>\n",
       "      <td>2.685701</td>\n",
       "      <td>1161741</td>\n",
       "      <td>499.12</td>\n",
       "    </tr>\n",
       "    <tr>\n",
       "      <th>26945</th>\n",
       "      <td>214516</td>\n",
       "      <td>806</td>\n",
       "      <td>11</td>\n",
       "      <td>12.276140</td>\n",
       "      <td>15</td>\n",
       "      <td>14593</td>\n",
       "      <td>5.65</td>\n",
       "      <td>7125.933333</td>\n",
       "      <td>2.855333</td>\n",
       "      <td>653</td>\n",
       "      <td>...</td>\n",
       "      <td>0</td>\n",
       "      <td>1</td>\n",
       "      <td>4</td>\n",
       "      <td>2</td>\n",
       "      <td>0.289824</td>\n",
       "      <td>0.020986</td>\n",
       "      <td>4372.558827</td>\n",
       "      <td>1.599556</td>\n",
       "      <td>771053</td>\n",
       "      <td>330.13</td>\n",
       "    </tr>\n",
       "    <tr>\n",
       "      <th>41472</th>\n",
       "      <td>152214</td>\n",
       "      <td>638</td>\n",
       "      <td>11</td>\n",
       "      <td>11.933043</td>\n",
       "      <td>16</td>\n",
       "      <td>13657</td>\n",
       "      <td>9.82</td>\n",
       "      <td>7510.812500</td>\n",
       "      <td>3.981250</td>\n",
       "      <td>986</td>\n",
       "      <td>...</td>\n",
       "      <td>1</td>\n",
       "      <td>1</td>\n",
       "      <td>4</td>\n",
       "      <td>2</td>\n",
       "      <td>-0.064213</td>\n",
       "      <td>0.311596</td>\n",
       "      <td>4250.127784</td>\n",
       "      <td>3.129716</td>\n",
       "      <td>784731</td>\n",
       "      <td>435.36</td>\n",
       "    </tr>\n",
       "    <tr>\n",
       "      <th>46180</th>\n",
       "      <td>43851</td>\n",
       "      <td>562</td>\n",
       "      <td>11</td>\n",
       "      <td>10.688553</td>\n",
       "      <td>20</td>\n",
       "      <td>14081</td>\n",
       "      <td>9.26</td>\n",
       "      <td>7700.850000</td>\n",
       "      <td>3.502500</td>\n",
       "      <td>1607</td>\n",
       "      <td>...</td>\n",
       "      <td>0</td>\n",
       "      <td>1</td>\n",
       "      <td>4</td>\n",
       "      <td>2</td>\n",
       "      <td>0.127445</td>\n",
       "      <td>0.649145</td>\n",
       "      <td>3815.702946</td>\n",
       "      <td>2.714351</td>\n",
       "      <td>1142666</td>\n",
       "      <td>578.43</td>\n",
       "    </tr>\n",
       "  </tbody>\n",
       "</table>\n",
       "<p>5 rows × 112 columns</p>\n",
       "</div>"
      ],
      "text/plain": [
       "           income  credit_score  join_month  log_income  COUNT(loans)  \\\n",
       "client_id                                                               \n",
       "42320      229481           563           4   12.343576            15   \n",
       "39384      191204           617           6   12.161096            19   \n",
       "26945      214516           806          11   12.276140            15   \n",
       "41472      152214           638          11   11.933043            16   \n",
       "46180       43851           562          11   10.688553            20   \n",
       "\n",
       "           MAX(loans.loan_amount)  MAX(loans.rate)  MEAN(loans.loan_amount)  \\\n",
       "client_id                                                                     \n",
       "42320                       13887             6.74              7062.066667   \n",
       "39384                       14654             9.23              7865.473684   \n",
       "26945                       14593             5.65              7125.933333   \n",
       "41472                       13657             9.82              7510.812500   \n",
       "46180                       14081             9.26              7700.850000   \n",
       "\n",
       "           MEAN(loans.rate)  MIN(loans.loan_amount)  ...  \\\n",
       "client_id                                            ...   \n",
       "42320              2.457333                    1070  ...   \n",
       "39384              3.538421                    1770  ...   \n",
       "26945              2.855333                     653  ...   \n",
       "41472              3.981250                     986  ...   \n",
       "46180              3.502500                    1607  ...   \n",
       "\n",
       "           MODE(payments.loans.repaid) NUM_UNIQUE(payments.loans.client_id)  \\\n",
       "client_id                                                                     \n",
       "42320                                1                                    1   \n",
       "39384                                1                                    1   \n",
       "26945                                0                                    1   \n",
       "41472                                1                                    1   \n",
       "46180                                0                                    1   \n",
       "\n",
       "           NUM_UNIQUE(payments.loans.loan_type)  \\\n",
       "client_id                                         \n",
       "42320                                         4   \n",
       "39384                                         4   \n",
       "26945                                         4   \n",
       "41472                                         4   \n",
       "46180                                         4   \n",
       "\n",
       "           NUM_UNIQUE(payments.loans.repaid)  \\\n",
       "client_id                                      \n",
       "42320                                      2   \n",
       "39384                                      2   \n",
       "26945                                      2   \n",
       "41472                                      2   \n",
       "46180                                      2   \n",
       "\n",
       "           SKEW(payments.loans.loan_amount)  SKEW(payments.loans.rate)  \\\n",
       "client_id                                                                \n",
       "42320                              0.097213                   0.872916   \n",
       "39384                             -0.277360                   0.971757   \n",
       "26945                              0.289824                   0.020986   \n",
       "41472                             -0.064213                   0.311596   \n",
       "46180                              0.127445                   0.649145   \n",
       "\n",
       "           STD(payments.loans.loan_amount)  STD(payments.loans.rate)  \\\n",
       "client_id                                                              \n",
       "42320                          3929.351652                  1.891948   \n",
       "39384                          3765.368569                  2.685701   \n",
       "26945                          4372.558827                  1.599556   \n",
       "41472                          4250.127784                  3.129716   \n",
       "46180                          3815.702946                  2.714351   \n",
       "\n",
       "           SUM(payments.loans.loan_amount)  SUM(payments.loans.rate)  \n",
       "client_id                                                             \n",
       "42320                               843367                    302.84  \n",
       "39384                              1161741                    499.12  \n",
       "26945                               771053                    330.13  \n",
       "41472                               784731                    435.36  \n",
       "46180                              1142666                    578.43  \n",
       "\n",
       "[5 rows x 112 columns]"
      ]
     },
     "execution_count": 29,
     "metadata": {},
     "output_type": "execute_result"
    }
   ],
   "source": [
    "features.head()"
   ]
  },
  {
   "cell_type": "markdown",
   "metadata": {
    "ExecuteTime": {
     "end_time": "2021-07-28T07:35:17.809410Z",
     "start_time": "2021-07-28T07:35:17.791414Z"
    }
   },
   "source": [
    "### Tuning DFS using deep features as per business needs using seed values"
   ]
  },
  {
   "cell_type": "code",
   "execution_count": 30,
   "metadata": {
    "ExecuteTime": {
     "end_time": "2021-07-28T10:07:04.913275Z",
     "start_time": "2021-07-28T10:07:04.428174Z"
    }
   },
   "outputs": [
    {
     "name": "stdout",
     "output_type": "stream",
     "text": [
      "Built 114 features\n",
      "Elapsed: 00:00 | Progress: 100%|███████████████████████████████████████████████████████████████████████████████████████\n"
     ]
    }
   ],
   "source": [
    "high_income= ft.Feature(es[\"loans\"][\"loan_amount\"]) > 50000\n",
    "features, feature_names = ft.dfs(entityset=es, target_entity='clients', \n",
    "                                 max_depth = 2,verbose = 1, seed_features=[high_income])"
   ]
  },
  {
   "cell_type": "code",
   "execution_count": 31,
   "metadata": {
    "ExecuteTime": {
     "end_time": "2021-07-28T10:07:04.960830Z",
     "start_time": "2021-07-28T10:07:04.915284Z"
    }
   },
   "outputs": [
    {
     "data": {
      "text/html": [
       "<div>\n",
       "<style scoped>\n",
       "    .dataframe tbody tr th:only-of-type {\n",
       "        vertical-align: middle;\n",
       "    }\n",
       "\n",
       "    .dataframe tbody tr th {\n",
       "        vertical-align: top;\n",
       "    }\n",
       "\n",
       "    .dataframe thead th {\n",
       "        text-align: right;\n",
       "    }\n",
       "</style>\n",
       "<table border=\"1\" class=\"dataframe\">\n",
       "  <thead>\n",
       "    <tr style=\"text-align: right;\">\n",
       "      <th></th>\n",
       "      <th>income</th>\n",
       "      <th>credit_score</th>\n",
       "      <th>join_month</th>\n",
       "      <th>log_income</th>\n",
       "      <th>COUNT(loans)</th>\n",
       "      <th>MAX(loans.loan_amount)</th>\n",
       "      <th>MAX(loans.rate)</th>\n",
       "      <th>MEAN(loans.loan_amount)</th>\n",
       "      <th>MEAN(loans.rate)</th>\n",
       "      <th>MIN(loans.loan_amount)</th>\n",
       "      <th>...</th>\n",
       "      <th>NUM_UNIQUE(payments.loans.client_id)</th>\n",
       "      <th>NUM_UNIQUE(payments.loans.loan_type)</th>\n",
       "      <th>NUM_UNIQUE(payments.loans.repaid)</th>\n",
       "      <th>SKEW(payments.loans.loan_amount)</th>\n",
       "      <th>SKEW(payments.loans.rate)</th>\n",
       "      <th>STD(payments.loans.loan_amount)</th>\n",
       "      <th>STD(payments.loans.rate)</th>\n",
       "      <th>SUM(payments.loans.loan_amount)</th>\n",
       "      <th>SUM(payments.loans.rate)</th>\n",
       "      <th>PERCENT_TRUE(payments.loans.loan_amount &gt; 50000)</th>\n",
       "    </tr>\n",
       "    <tr>\n",
       "      <th>client_id</th>\n",
       "      <th></th>\n",
       "      <th></th>\n",
       "      <th></th>\n",
       "      <th></th>\n",
       "      <th></th>\n",
       "      <th></th>\n",
       "      <th></th>\n",
       "      <th></th>\n",
       "      <th></th>\n",
       "      <th></th>\n",
       "      <th></th>\n",
       "      <th></th>\n",
       "      <th></th>\n",
       "      <th></th>\n",
       "      <th></th>\n",
       "      <th></th>\n",
       "      <th></th>\n",
       "      <th></th>\n",
       "      <th></th>\n",
       "      <th></th>\n",
       "      <th></th>\n",
       "    </tr>\n",
       "  </thead>\n",
       "  <tbody>\n",
       "    <tr>\n",
       "      <th>42320</th>\n",
       "      <td>229481</td>\n",
       "      <td>563</td>\n",
       "      <td>4</td>\n",
       "      <td>12.343576</td>\n",
       "      <td>15</td>\n",
       "      <td>13887</td>\n",
       "      <td>6.74</td>\n",
       "      <td>7062.066667</td>\n",
       "      <td>2.457333</td>\n",
       "      <td>1070</td>\n",
       "      <td>...</td>\n",
       "      <td>1</td>\n",
       "      <td>4</td>\n",
       "      <td>2</td>\n",
       "      <td>0.097213</td>\n",
       "      <td>0.872916</td>\n",
       "      <td>3929.351652</td>\n",
       "      <td>1.891948</td>\n",
       "      <td>843367</td>\n",
       "      <td>302.84</td>\n",
       "      <td>0.0</td>\n",
       "    </tr>\n",
       "    <tr>\n",
       "      <th>39384</th>\n",
       "      <td>191204</td>\n",
       "      <td>617</td>\n",
       "      <td>6</td>\n",
       "      <td>12.161096</td>\n",
       "      <td>19</td>\n",
       "      <td>14654</td>\n",
       "      <td>9.23</td>\n",
       "      <td>7865.473684</td>\n",
       "      <td>3.538421</td>\n",
       "      <td>1770</td>\n",
       "      <td>...</td>\n",
       "      <td>1</td>\n",
       "      <td>4</td>\n",
       "      <td>2</td>\n",
       "      <td>-0.277360</td>\n",
       "      <td>0.971757</td>\n",
       "      <td>3765.368569</td>\n",
       "      <td>2.685701</td>\n",
       "      <td>1161741</td>\n",
       "      <td>499.12</td>\n",
       "      <td>0.0</td>\n",
       "    </tr>\n",
       "    <tr>\n",
       "      <th>26945</th>\n",
       "      <td>214516</td>\n",
       "      <td>806</td>\n",
       "      <td>11</td>\n",
       "      <td>12.276140</td>\n",
       "      <td>15</td>\n",
       "      <td>14593</td>\n",
       "      <td>5.65</td>\n",
       "      <td>7125.933333</td>\n",
       "      <td>2.855333</td>\n",
       "      <td>653</td>\n",
       "      <td>...</td>\n",
       "      <td>1</td>\n",
       "      <td>4</td>\n",
       "      <td>2</td>\n",
       "      <td>0.289824</td>\n",
       "      <td>0.020986</td>\n",
       "      <td>4372.558827</td>\n",
       "      <td>1.599556</td>\n",
       "      <td>771053</td>\n",
       "      <td>330.13</td>\n",
       "      <td>0.0</td>\n",
       "    </tr>\n",
       "    <tr>\n",
       "      <th>41472</th>\n",
       "      <td>152214</td>\n",
       "      <td>638</td>\n",
       "      <td>11</td>\n",
       "      <td>11.933043</td>\n",
       "      <td>16</td>\n",
       "      <td>13657</td>\n",
       "      <td>9.82</td>\n",
       "      <td>7510.812500</td>\n",
       "      <td>3.981250</td>\n",
       "      <td>986</td>\n",
       "      <td>...</td>\n",
       "      <td>1</td>\n",
       "      <td>4</td>\n",
       "      <td>2</td>\n",
       "      <td>-0.064213</td>\n",
       "      <td>0.311596</td>\n",
       "      <td>4250.127784</td>\n",
       "      <td>3.129716</td>\n",
       "      <td>784731</td>\n",
       "      <td>435.36</td>\n",
       "      <td>0.0</td>\n",
       "    </tr>\n",
       "    <tr>\n",
       "      <th>46180</th>\n",
       "      <td>43851</td>\n",
       "      <td>562</td>\n",
       "      <td>11</td>\n",
       "      <td>10.688553</td>\n",
       "      <td>20</td>\n",
       "      <td>14081</td>\n",
       "      <td>9.26</td>\n",
       "      <td>7700.850000</td>\n",
       "      <td>3.502500</td>\n",
       "      <td>1607</td>\n",
       "      <td>...</td>\n",
       "      <td>1</td>\n",
       "      <td>4</td>\n",
       "      <td>2</td>\n",
       "      <td>0.127445</td>\n",
       "      <td>0.649145</td>\n",
       "      <td>3815.702946</td>\n",
       "      <td>2.714351</td>\n",
       "      <td>1142666</td>\n",
       "      <td>578.43</td>\n",
       "      <td>0.0</td>\n",
       "    </tr>\n",
       "  </tbody>\n",
       "</table>\n",
       "<p>5 rows × 114 columns</p>\n",
       "</div>"
      ],
      "text/plain": [
       "           income  credit_score  join_month  log_income  COUNT(loans)  \\\n",
       "client_id                                                               \n",
       "42320      229481           563           4   12.343576            15   \n",
       "39384      191204           617           6   12.161096            19   \n",
       "26945      214516           806          11   12.276140            15   \n",
       "41472      152214           638          11   11.933043            16   \n",
       "46180       43851           562          11   10.688553            20   \n",
       "\n",
       "           MAX(loans.loan_amount)  MAX(loans.rate)  MEAN(loans.loan_amount)  \\\n",
       "client_id                                                                     \n",
       "42320                       13887             6.74              7062.066667   \n",
       "39384                       14654             9.23              7865.473684   \n",
       "26945                       14593             5.65              7125.933333   \n",
       "41472                       13657             9.82              7510.812500   \n",
       "46180                       14081             9.26              7700.850000   \n",
       "\n",
       "           MEAN(loans.rate)  MIN(loans.loan_amount)  ...  \\\n",
       "client_id                                            ...   \n",
       "42320              2.457333                    1070  ...   \n",
       "39384              3.538421                    1770  ...   \n",
       "26945              2.855333                     653  ...   \n",
       "41472              3.981250                     986  ...   \n",
       "46180              3.502500                    1607  ...   \n",
       "\n",
       "           NUM_UNIQUE(payments.loans.client_id)  \\\n",
       "client_id                                         \n",
       "42320                                         1   \n",
       "39384                                         1   \n",
       "26945                                         1   \n",
       "41472                                         1   \n",
       "46180                                         1   \n",
       "\n",
       "          NUM_UNIQUE(payments.loans.loan_type)  \\\n",
       "client_id                                        \n",
       "42320                                        4   \n",
       "39384                                        4   \n",
       "26945                                        4   \n",
       "41472                                        4   \n",
       "46180                                        4   \n",
       "\n",
       "           NUM_UNIQUE(payments.loans.repaid)  \\\n",
       "client_id                                      \n",
       "42320                                      2   \n",
       "39384                                      2   \n",
       "26945                                      2   \n",
       "41472                                      2   \n",
       "46180                                      2   \n",
       "\n",
       "           SKEW(payments.loans.loan_amount)  SKEW(payments.loans.rate)  \\\n",
       "client_id                                                                \n",
       "42320                              0.097213                   0.872916   \n",
       "39384                             -0.277360                   0.971757   \n",
       "26945                              0.289824                   0.020986   \n",
       "41472                             -0.064213                   0.311596   \n",
       "46180                              0.127445                   0.649145   \n",
       "\n",
       "           STD(payments.loans.loan_amount)  STD(payments.loans.rate)  \\\n",
       "client_id                                                              \n",
       "42320                          3929.351652                  1.891948   \n",
       "39384                          3765.368569                  2.685701   \n",
       "26945                          4372.558827                  1.599556   \n",
       "41472                          4250.127784                  3.129716   \n",
       "46180                          3815.702946                  2.714351   \n",
       "\n",
       "           SUM(payments.loans.loan_amount)  SUM(payments.loans.rate)  \\\n",
       "client_id                                                              \n",
       "42320                               843367                    302.84   \n",
       "39384                              1161741                    499.12   \n",
       "26945                               771053                    330.13   \n",
       "41472                               784731                    435.36   \n",
       "46180                              1142666                    578.43   \n",
       "\n",
       "           PERCENT_TRUE(payments.loans.loan_amount > 50000)  \n",
       "client_id                                                    \n",
       "42320                                                   0.0  \n",
       "39384                                                   0.0  \n",
       "26945                                                   0.0  \n",
       "41472                                                   0.0  \n",
       "46180                                                   0.0  \n",
       "\n",
       "[5 rows x 114 columns]"
      ]
     },
     "execution_count": 31,
     "metadata": {},
     "output_type": "execute_result"
    }
   ],
   "source": [
    "features.head()"
   ]
  },
  {
   "cell_type": "code",
   "execution_count": 32,
   "metadata": {
    "ExecuteTime": {
     "end_time": "2021-07-28T10:07:04.976829Z",
     "start_time": "2021-07-28T10:07:04.964828Z"
    }
   },
   "outputs": [
    {
     "data": {
      "text/plain": [
       "[<Feature: income>,\n",
       " <Feature: credit_score>,\n",
       " <Feature: join_month>,\n",
       " <Feature: log_income>,\n",
       " <Feature: COUNT(loans)>,\n",
       " <Feature: MAX(loans.loan_amount)>,\n",
       " <Feature: MAX(loans.rate)>,\n",
       " <Feature: MEAN(loans.loan_amount)>,\n",
       " <Feature: MEAN(loans.rate)>,\n",
       " <Feature: MIN(loans.loan_amount)>,\n",
       " <Feature: MIN(loans.rate)>,\n",
       " <Feature: MODE(loans.loan_type)>,\n",
       " <Feature: MODE(loans.repaid)>,\n",
       " <Feature: NUM_UNIQUE(loans.loan_type)>,\n",
       " <Feature: NUM_UNIQUE(loans.repaid)>,\n",
       " <Feature: SKEW(loans.loan_amount)>,\n",
       " <Feature: SKEW(loans.rate)>,\n",
       " <Feature: STD(loans.loan_amount)>,\n",
       " <Feature: STD(loans.rate)>,\n",
       " <Feature: SUM(loans.loan_amount)>,\n",
       " <Feature: SUM(loans.rate)>,\n",
       " <Feature: COUNT(payments)>,\n",
       " <Feature: MAX(payments.payment_amount)>,\n",
       " <Feature: MEAN(payments.payment_amount)>,\n",
       " <Feature: MIN(payments.payment_amount)>,\n",
       " <Feature: MODE(payments.missed)>,\n",
       " <Feature: NUM_UNIQUE(payments.missed)>,\n",
       " <Feature: SKEW(payments.payment_amount)>,\n",
       " <Feature: STD(payments.payment_amount)>,\n",
       " <Feature: SUM(payments.payment_amount)>,\n",
       " <Feature: DAY(joined)>,\n",
       " <Feature: MONTH(joined)>,\n",
       " <Feature: WEEKDAY(joined)>,\n",
       " <Feature: YEAR(joined)>,\n",
       " <Feature: MAX(loans.COUNT(payments))>,\n",
       " <Feature: MAX(loans.MEAN(payments.payment_amount))>,\n",
       " <Feature: MAX(loans.MIN(payments.payment_amount))>,\n",
       " <Feature: MAX(loans.NUM_UNIQUE(payments.missed))>,\n",
       " <Feature: MAX(loans.SKEW(payments.payment_amount))>,\n",
       " <Feature: MAX(loans.STD(payments.payment_amount))>,\n",
       " <Feature: MAX(loans.SUM(payments.payment_amount))>,\n",
       " <Feature: MEAN(loans.COUNT(payments))>,\n",
       " <Feature: MEAN(loans.MAX(payments.payment_amount))>,\n",
       " <Feature: MEAN(loans.MEAN(payments.payment_amount))>,\n",
       " <Feature: MEAN(loans.MIN(payments.payment_amount))>,\n",
       " <Feature: MEAN(loans.NUM_UNIQUE(payments.missed))>,\n",
       " <Feature: MEAN(loans.SKEW(payments.payment_amount))>,\n",
       " <Feature: MEAN(loans.STD(payments.payment_amount))>,\n",
       " <Feature: MEAN(loans.SUM(payments.payment_amount))>,\n",
       " <Feature: MIN(loans.COUNT(payments))>,\n",
       " <Feature: MIN(loans.MAX(payments.payment_amount))>,\n",
       " <Feature: MIN(loans.MEAN(payments.payment_amount))>,\n",
       " <Feature: MIN(loans.NUM_UNIQUE(payments.missed))>,\n",
       " <Feature: MIN(loans.SKEW(payments.payment_amount))>,\n",
       " <Feature: MIN(loans.STD(payments.payment_amount))>,\n",
       " <Feature: MIN(loans.SUM(payments.payment_amount))>,\n",
       " <Feature: MODE(loans.DAY(loan_end))>,\n",
       " <Feature: MODE(loans.DAY(loan_start))>,\n",
       " <Feature: MODE(loans.MODE(payments.missed))>,\n",
       " <Feature: MODE(loans.MONTH(loan_end))>,\n",
       " <Feature: MODE(loans.MONTH(loan_start))>,\n",
       " <Feature: MODE(loans.WEEKDAY(loan_end))>,\n",
       " <Feature: MODE(loans.WEEKDAY(loan_start))>,\n",
       " <Feature: MODE(loans.YEAR(loan_end))>,\n",
       " <Feature: MODE(loans.YEAR(loan_start))>,\n",
       " <Feature: NUM_UNIQUE(loans.DAY(loan_end))>,\n",
       " <Feature: NUM_UNIQUE(loans.DAY(loan_start))>,\n",
       " <Feature: NUM_UNIQUE(loans.MODE(payments.missed))>,\n",
       " <Feature: NUM_UNIQUE(loans.MONTH(loan_end))>,\n",
       " <Feature: NUM_UNIQUE(loans.MONTH(loan_start))>,\n",
       " <Feature: NUM_UNIQUE(loans.WEEKDAY(loan_end))>,\n",
       " <Feature: NUM_UNIQUE(loans.WEEKDAY(loan_start))>,\n",
       " <Feature: NUM_UNIQUE(loans.YEAR(loan_end))>,\n",
       " <Feature: NUM_UNIQUE(loans.YEAR(loan_start))>,\n",
       " <Feature: PERCENT_TRUE(loans.loan_amount > 50000)>,\n",
       " <Feature: SKEW(loans.COUNT(payments))>,\n",
       " <Feature: SKEW(loans.MAX(payments.payment_amount))>,\n",
       " <Feature: SKEW(loans.MEAN(payments.payment_amount))>,\n",
       " <Feature: SKEW(loans.MIN(payments.payment_amount))>,\n",
       " <Feature: SKEW(loans.NUM_UNIQUE(payments.missed))>,\n",
       " <Feature: SKEW(loans.STD(payments.payment_amount))>,\n",
       " <Feature: SKEW(loans.SUM(payments.payment_amount))>,\n",
       " <Feature: STD(loans.COUNT(payments))>,\n",
       " <Feature: STD(loans.MAX(payments.payment_amount))>,\n",
       " <Feature: STD(loans.MEAN(payments.payment_amount))>,\n",
       " <Feature: STD(loans.MIN(payments.payment_amount))>,\n",
       " <Feature: STD(loans.NUM_UNIQUE(payments.missed))>,\n",
       " <Feature: STD(loans.SKEW(payments.payment_amount))>,\n",
       " <Feature: STD(loans.SUM(payments.payment_amount))>,\n",
       " <Feature: SUM(loans.MAX(payments.payment_amount))>,\n",
       " <Feature: SUM(loans.MEAN(payments.payment_amount))>,\n",
       " <Feature: SUM(loans.MIN(payments.payment_amount))>,\n",
       " <Feature: SUM(loans.NUM_UNIQUE(payments.missed))>,\n",
       " <Feature: SUM(loans.SKEW(payments.payment_amount))>,\n",
       " <Feature: SUM(loans.STD(payments.payment_amount))>,\n",
       " <Feature: MAX(payments.loans.loan_amount)>,\n",
       " <Feature: MAX(payments.loans.rate)>,\n",
       " <Feature: MEAN(payments.loans.loan_amount)>,\n",
       " <Feature: MEAN(payments.loans.rate)>,\n",
       " <Feature: MIN(payments.loans.loan_amount)>,\n",
       " <Feature: MIN(payments.loans.rate)>,\n",
       " <Feature: MODE(payments.loans.client_id)>,\n",
       " <Feature: MODE(payments.loans.loan_type)>,\n",
       " <Feature: MODE(payments.loans.repaid)>,\n",
       " <Feature: NUM_UNIQUE(payments.loans.client_id)>,\n",
       " <Feature: NUM_UNIQUE(payments.loans.loan_type)>,\n",
       " <Feature: NUM_UNIQUE(payments.loans.repaid)>,\n",
       " <Feature: SKEW(payments.loans.loan_amount)>,\n",
       " <Feature: SKEW(payments.loans.rate)>,\n",
       " <Feature: STD(payments.loans.loan_amount)>,\n",
       " <Feature: STD(payments.loans.rate)>,\n",
       " <Feature: SUM(payments.loans.loan_amount)>,\n",
       " <Feature: SUM(payments.loans.rate)>,\n",
       " <Feature: PERCENT_TRUE(payments.loans.loan_amount > 50000)>]"
      ]
     },
     "execution_count": 32,
     "metadata": {},
     "output_type": "execute_result"
    }
   ],
   "source": [
    "feature_names"
   ]
  },
  {
   "cell_type": "code",
   "execution_count": null,
   "metadata": {
    "ExecuteTime": {
     "end_time": "2021-07-28T07:52:43.089455Z",
     "start_time": "2021-07-28T07:52:43.060459Z"
    }
   },
   "outputs": [],
   "source": []
  },
  {
   "cell_type": "markdown",
   "metadata": {},
   "source": [
    "### Encoding categorical features"
   ]
  },
  {
   "cell_type": "code",
   "execution_count": 33,
   "metadata": {
    "ExecuteTime": {
     "end_time": "2021-07-28T10:07:05.291571Z",
     "start_time": "2021-07-28T10:07:04.981830Z"
    }
   },
   "outputs": [
    {
     "name": "stdout",
     "output_type": "stream",
     "text": [
      "Built 10 features\n",
      "Elapsed: 00:00 | Progress: 100%|███████████████████████████████████████████████████████████████████████████████████████\n"
     ]
    },
    {
     "data": {
      "text/html": [
       "<div>\n",
       "<style scoped>\n",
       "    .dataframe tbody tr th:only-of-type {\n",
       "        vertical-align: middle;\n",
       "    }\n",
       "\n",
       "    .dataframe tbody tr th {\n",
       "        vertical-align: top;\n",
       "    }\n",
       "\n",
       "    .dataframe thead th {\n",
       "        text-align: right;\n",
       "    }\n",
       "</style>\n",
       "<table border=\"1\" class=\"dataframe\">\n",
       "  <thead>\n",
       "    <tr style=\"text-align: right;\">\n",
       "      <th></th>\n",
       "      <th>income</th>\n",
       "      <th>credit_score</th>\n",
       "      <th>join_month</th>\n",
       "      <th>log_income</th>\n",
       "      <th>MODE(loans.loan_type) = home</th>\n",
       "      <th>MODE(loans.loan_type) = cash</th>\n",
       "      <th>MODE(loans.loan_type) = credit</th>\n",
       "      <th>MODE(loans.loan_type) = other</th>\n",
       "      <th>MODE(loans.loan_type) is unknown</th>\n",
       "      <th>MODE(loans.repaid) = 1</th>\n",
       "      <th>...</th>\n",
       "      <th>YEAR(joined) = 2002</th>\n",
       "      <th>YEAR(joined) = 2000</th>\n",
       "      <th>YEAR(joined) = 2011</th>\n",
       "      <th>YEAR(joined) = 2009</th>\n",
       "      <th>YEAR(joined) = 2006</th>\n",
       "      <th>YEAR(joined) = 2001</th>\n",
       "      <th>YEAR(joined) = 2013</th>\n",
       "      <th>YEAR(joined) = 2012</th>\n",
       "      <th>YEAR(joined) = 2010</th>\n",
       "      <th>YEAR(joined) is unknown</th>\n",
       "    </tr>\n",
       "    <tr>\n",
       "      <th>client_id</th>\n",
       "      <th></th>\n",
       "      <th></th>\n",
       "      <th></th>\n",
       "      <th></th>\n",
       "      <th></th>\n",
       "      <th></th>\n",
       "      <th></th>\n",
       "      <th></th>\n",
       "      <th></th>\n",
       "      <th></th>\n",
       "      <th></th>\n",
       "      <th></th>\n",
       "      <th></th>\n",
       "      <th></th>\n",
       "      <th></th>\n",
       "      <th></th>\n",
       "      <th></th>\n",
       "      <th></th>\n",
       "      <th></th>\n",
       "      <th></th>\n",
       "      <th></th>\n",
       "    </tr>\n",
       "  </thead>\n",
       "  <tbody>\n",
       "    <tr>\n",
       "      <th>42320</th>\n",
       "      <td>229481</td>\n",
       "      <td>563</td>\n",
       "      <td>4</td>\n",
       "      <td>12.343576</td>\n",
       "      <td>True</td>\n",
       "      <td>False</td>\n",
       "      <td>False</td>\n",
       "      <td>False</td>\n",
       "      <td>False</td>\n",
       "      <td>True</td>\n",
       "      <td>...</td>\n",
       "      <td>False</td>\n",
       "      <td>True</td>\n",
       "      <td>False</td>\n",
       "      <td>False</td>\n",
       "      <td>False</td>\n",
       "      <td>False</td>\n",
       "      <td>False</td>\n",
       "      <td>False</td>\n",
       "      <td>False</td>\n",
       "      <td>False</td>\n",
       "    </tr>\n",
       "    <tr>\n",
       "      <th>39384</th>\n",
       "      <td>191204</td>\n",
       "      <td>617</td>\n",
       "      <td>6</td>\n",
       "      <td>12.161096</td>\n",
       "      <td>False</td>\n",
       "      <td>False</td>\n",
       "      <td>True</td>\n",
       "      <td>False</td>\n",
       "      <td>False</td>\n",
       "      <td>True</td>\n",
       "      <td>...</td>\n",
       "      <td>False</td>\n",
       "      <td>True</td>\n",
       "      <td>False</td>\n",
       "      <td>False</td>\n",
       "      <td>False</td>\n",
       "      <td>False</td>\n",
       "      <td>False</td>\n",
       "      <td>False</td>\n",
       "      <td>False</td>\n",
       "      <td>False</td>\n",
       "    </tr>\n",
       "    <tr>\n",
       "      <th>26945</th>\n",
       "      <td>214516</td>\n",
       "      <td>806</td>\n",
       "      <td>11</td>\n",
       "      <td>12.276140</td>\n",
       "      <td>False</td>\n",
       "      <td>False</td>\n",
       "      <td>True</td>\n",
       "      <td>False</td>\n",
       "      <td>False</td>\n",
       "      <td>False</td>\n",
       "      <td>...</td>\n",
       "      <td>False</td>\n",
       "      <td>True</td>\n",
       "      <td>False</td>\n",
       "      <td>False</td>\n",
       "      <td>False</td>\n",
       "      <td>False</td>\n",
       "      <td>False</td>\n",
       "      <td>False</td>\n",
       "      <td>False</td>\n",
       "      <td>False</td>\n",
       "    </tr>\n",
       "    <tr>\n",
       "      <th>41472</th>\n",
       "      <td>152214</td>\n",
       "      <td>638</td>\n",
       "      <td>11</td>\n",
       "      <td>11.933043</td>\n",
       "      <td>False</td>\n",
       "      <td>True</td>\n",
       "      <td>False</td>\n",
       "      <td>False</td>\n",
       "      <td>False</td>\n",
       "      <td>False</td>\n",
       "      <td>...</td>\n",
       "      <td>False</td>\n",
       "      <td>False</td>\n",
       "      <td>False</td>\n",
       "      <td>False</td>\n",
       "      <td>False</td>\n",
       "      <td>True</td>\n",
       "      <td>False</td>\n",
       "      <td>False</td>\n",
       "      <td>False</td>\n",
       "      <td>False</td>\n",
       "    </tr>\n",
       "    <tr>\n",
       "      <th>46180</th>\n",
       "      <td>43851</td>\n",
       "      <td>562</td>\n",
       "      <td>11</td>\n",
       "      <td>10.688553</td>\n",
       "      <td>False</td>\n",
       "      <td>False</td>\n",
       "      <td>False</td>\n",
       "      <td>True</td>\n",
       "      <td>False</td>\n",
       "      <td>False</td>\n",
       "      <td>...</td>\n",
       "      <td>False</td>\n",
       "      <td>False</td>\n",
       "      <td>False</td>\n",
       "      <td>False</td>\n",
       "      <td>False</td>\n",
       "      <td>True</td>\n",
       "      <td>False</td>\n",
       "      <td>False</td>\n",
       "      <td>False</td>\n",
       "      <td>False</td>\n",
       "    </tr>\n",
       "  </tbody>\n",
       "</table>\n",
       "<p>5 rows × 52 columns</p>\n",
       "</div>"
      ],
      "text/plain": [
       "           income  credit_score  join_month  log_income  \\\n",
       "client_id                                                 \n",
       "42320      229481           563           4   12.343576   \n",
       "39384      191204           617           6   12.161096   \n",
       "26945      214516           806          11   12.276140   \n",
       "41472      152214           638          11   11.933043   \n",
       "46180       43851           562          11   10.688553   \n",
       "\n",
       "           MODE(loans.loan_type) = home  MODE(loans.loan_type) = cash  \\\n",
       "client_id                                                               \n",
       "42320                              True                         False   \n",
       "39384                             False                         False   \n",
       "26945                             False                         False   \n",
       "41472                             False                          True   \n",
       "46180                             False                         False   \n",
       "\n",
       "           MODE(loans.loan_type) = credit  MODE(loans.loan_type) = other  \\\n",
       "client_id                                                                  \n",
       "42320                               False                          False   \n",
       "39384                                True                          False   \n",
       "26945                                True                          False   \n",
       "41472                               False                          False   \n",
       "46180                               False                           True   \n",
       "\n",
       "           MODE(loans.loan_type) is unknown  MODE(loans.repaid) = 1  ...  \\\n",
       "client_id                                                            ...   \n",
       "42320                                 False                    True  ...   \n",
       "39384                                 False                    True  ...   \n",
       "26945                                 False                   False  ...   \n",
       "41472                                 False                   False  ...   \n",
       "46180                                 False                   False  ...   \n",
       "\n",
       "           YEAR(joined) = 2002  YEAR(joined) = 2000  YEAR(joined) = 2011  \\\n",
       "client_id                                                                  \n",
       "42320                    False                 True                False   \n",
       "39384                    False                 True                False   \n",
       "26945                    False                 True                False   \n",
       "41472                    False                False                False   \n",
       "46180                    False                False                False   \n",
       "\n",
       "           YEAR(joined) = 2009  YEAR(joined) = 2006  YEAR(joined) = 2001  \\\n",
       "client_id                                                                  \n",
       "42320                    False                False                False   \n",
       "39384                    False                False                False   \n",
       "26945                    False                False                False   \n",
       "41472                    False                False                 True   \n",
       "46180                    False                False                 True   \n",
       "\n",
       "           YEAR(joined) = 2013  YEAR(joined) = 2012  YEAR(joined) = 2010  \\\n",
       "client_id                                                                  \n",
       "42320                    False                False                False   \n",
       "39384                    False                False                False   \n",
       "26945                    False                False                False   \n",
       "41472                    False                False                False   \n",
       "46180                    False                False                False   \n",
       "\n",
       "           YEAR(joined) is unknown  \n",
       "client_id                           \n",
       "42320                        False  \n",
       "39384                        False  \n",
       "26945                        False  \n",
       "41472                        False  \n",
       "46180                        False  \n",
       "\n",
       "[5 rows x 52 columns]"
      ]
     },
     "execution_count": 33,
     "metadata": {},
     "output_type": "execute_result"
    }
   ],
   "source": [
    "feature_matrix, feature_defs = ft.dfs(entityset=es, target_entity='clients', verbose = 1,agg_primitives=[\"mode\"],max_depth=1)\n",
    "feature_matrix_enc, features_enc = ft.encode_features(feature_matrix, feature_defs)\n",
    "feature_matrix_enc.head()"
   ]
  },
  {
   "cell_type": "markdown",
   "metadata": {
    "colab_type": "text",
    "id": "s3cOoBMakhx8"
   },
   "source": [
    "Deep feature synthesis has created 90 new features out of the existing data! While we could have created all of these manually, I am glad to not have to write all that code by hand. The primary benefit of featuretools is that it creates features without any subjective human biases. Even a human with considerable domain knowledge will be limited by their imagination when making new features (not to mention time). Automated feature engineering is not limited by these factors (instead it's limited by computation time) and provides a good starting point for feature creation. This process likely will not remove the human contribution to feature engineering completely because a human can still use domain knowledge and machine learning expertise to select the most important features or build new features from those suggested by automated deep feature synthesis.\n",
    "\n",
    "# Next Steps\n",
    "\n",
    "While automatic feature engineering solves one problem, it provides us with another problem: too many features! Although it's difficult to say which features will be important to a given machine learning task ahead of time, it's likely that not all of the features made by featuretools add value. In fact, having too many features is a significant issue in machine learning because it makes training a model much harder. The [irrelevant features can drown out the important features](https://pdfs.semanticscholar.org/a83b/ddb34618cc68f1014ca12eef7f537825d104.pdf), leaving a model unable to learn how to map the features to the target.\n",
    "\n",
    "This problem is known as the [\"curse of dimensionality\"](https://en.wikipedia.org/wiki/Curse_of_dimensionality#Machine_learning) and is addressed through the process of [feature reduction and selection](http://scikit-learn.org/stable/modules/feature_selection.html), which means [removing low-value features](https://machinelearningmastery.com/feature-selection-machine-learning-python/) from the data. Defining which features are useful is an important problem where a data scientist can still add considerable value to the feature engineering task. Feature reduction will have to be another topic for another day!"
   ]
  },
  {
   "cell_type": "markdown",
   "metadata": {
    "colab_type": "text",
    "id": "jbjt01ADmEdX"
   },
   "source": [
    "# Conclusions\n",
    "\n",
    "In this notebook, we saw how to apply automated feature engineering to an example dataset. This is a powerful method which allows us to overcome the human limits of time and imagination to create many new features from multiple tables of data. Featuretools is built on the idea of deep feature synthesis, which means stacking multiple simple feature primitives - __aggregations and transformations__ - to create new features. Feature engineering allows us to combine information across many tables into a single dataframe that we can then use for machine learning model training. Finally, the next step after creating all of these features is figuring out which ones are important. \n",
    "\n",
    "Featuretools is currently the only Python option for this process, but with the recent emphasis on automating aspects of the machine learning pipeline, other competitiors will probably enter the sphere. While the exact tools will change, the idea of automatically creating new features out of existing data will grow in importance. Staying up-to-date on methods such as automated feature engineering is crucial in the rapidly changing field of data science. Now go out there and find a problem on which to apply featuretools! \n",
    "\n",
    "For more information, check out the [documentation for featuretools](https://docs.featuretools.com/index.html). Also, read about how featuretools is [used in the real world by Feature Labs](https://www.featurelabs.com/), the company behind the open-source library."
   ]
  }
 ],
 "metadata": {
  "colab": {
   "default_view": {},
   "name": "Automated Feature Engineering.ipynb",
   "private_outputs": true,
   "provenance": [],
   "version": "0.3.2",
   "views": {}
  },
  "kernelspec": {
   "display_name": "Python 3",
   "language": "python",
   "name": "python3"
  },
  "language_info": {
   "codemirror_mode": {
    "name": "ipython",
    "version": 3
   },
   "file_extension": ".py",
   "mimetype": "text/x-python",
   "name": "python",
   "nbconvert_exporter": "python",
   "pygments_lexer": "ipython3",
   "version": "3.8.3"
  }
 },
 "nbformat": 4,
 "nbformat_minor": 1
}
